{
  "cells": [
    {
      "cell_type": "markdown",
      "metadata": {
        "id": "W6LBlBctzGmd"
      },
      "source": [
        "This is a companion notebook for the book [Deep Learning with Python, Second Edition](https://www.manning.com/books/deep-learning-with-python-second-edition?a_aid=keras&a_bid=76564dff). For readability, it only contains runnable code blocks and section titles, and omits everything else in the book: text paragraphs, figures, and pseudocode.\n",
        "\n",
        "**If you want to be able to follow what's going on, I recommend reading the notebook side by side with your copy of the book.**\n",
        "\n",
        "This notebook was generated for TensorFlow 2.6."
      ]
    },
    {
      "cell_type": "markdown",
      "metadata": {
        "id": "54WiKpXbzGmf"
      },
      "source": [
        "### Processing words as a sequence: The sequence model approach"
      ]
    },
    {
      "cell_type": "markdown",
      "metadata": {
        "id": "0Traj_ewzGmg"
      },
      "source": [
        "#### A first practical example"
      ]
    },
    {
      "cell_type": "markdown",
      "metadata": {
        "id": "rmpIJo6SzGmg"
      },
      "source": [
        "**Downloading the data**"
      ]
    },
    {
      "cell_type": "code",
      "execution_count": null,
      "metadata": {
        "colab": {
          "base_uri": "https://localhost:8080/"
        },
        "id": "aFVsVWKYzGmg",
        "outputId": "3ca25dce-161c-412f-f86c-654ca59d8814"
      },
      "outputs": [
        {
          "output_type": "stream",
          "name": "stdout",
          "text": [
            "  % Total    % Received % Xferd  Average Speed   Time    Time     Time  Current\n",
            "                                 Dload  Upload   Total   Spent    Left  Speed\n",
            "100 80.2M  100 80.2M    0     0   9.9M      0  0:00:08  0:00:08 --:--:-- 16.6M\n"
          ]
        }
      ],
      "source": [
        "!curl -O https://ai.stanford.edu/~amaas/data/sentiment/aclImdb_v1.tar.gz\n",
        "!tar -xf aclImdb_v1.tar.gz\n",
        "!rm -r aclImdb/train/unsup"
      ]
    },
    {
      "cell_type": "markdown",
      "metadata": {
        "id": "GUIVQxlwzGmh"
      },
      "source": [
        "**Preparing the data**\n",
        "\n",
        "\n",
        "\n",
        "\n",
        "\n",
        "\n",
        "\n",
        "\n",
        "\n",
        "\n",
        "\n",
        "\n",
        "\n",
        "\n",
        "\n",
        "\n",
        "\n",
        "\n",
        "\n",
        "\n",
        "\n",
        "\n",
        "\n",
        "\n",
        "\n",
        "\n",
        "\n",
        "\n"
      ]
    },
    {
      "cell_type": "code",
      "execution_count": null,
      "metadata": {
        "id": "ffrBYuBgzGmh"
      },
      "outputs": [],
      "source": [
        "import os, pathlib, shutil, random\n",
        "from tensorflow import keras\n",
        "batch_size = 32\n",
        "base_dir = pathlib.Path(\"aclImdb\")\n",
        "val_dir = base_dir / \"val\"\n",
        "train_dir = base_dir / \"train\"\n",
        "for category in (\"neg\", \"pos\"):\n",
        "    os.makedirs(val_dir / category)\n",
        "    files = os.listdir(train_dir / category)\n",
        "    random.Random(1337).shuffle(files)\n",
        "    num_val_samples = int(0.2 * len(files))\n",
        "    val_files = files[-num_val_samples:]\n",
        "    for fname in val_files:\n",
        "        shutil.move(train_dir / category / fname,\n",
        "                    val_dir / category / fname)"
      ]
    },
    {
      "cell_type": "markdown",
      "metadata": {
        "id": "ZeGtpjsSzGmi"
      },
      "source": [
        "**Preparing integer sequence datasets**"
      ]
    },
    {
      "cell_type": "code",
      "execution_count": null,
      "metadata": {
        "colab": {
          "base_uri": "https://localhost:8080/"
        },
        "id": "C0gv2-hXzGmi",
        "outputId": "f30a7baf-de8c-4b92-93e0-f39d453518de"
      },
      "outputs": [
        {
          "output_type": "stream",
          "name": "stdout",
          "text": [
            "Found 20000 files belonging to 2 classes.\n",
            "Found 5000 files belonging to 2 classes.\n",
            "Found 25000 files belonging to 2 classes.\n"
          ]
        }
      ],
      "source": [
        "train_ds = keras.utils.text_dataset_from_directory(\n",
        "    \"aclImdb/train\", batch_size=batch_size\n",
        ")\n",
        "#train_ds = train_ds.take(1050)\n",
        "val_ds = keras.utils.text_dataset_from_directory(\n",
        "    \"aclImdb/val\", batch_size=batch_size\n",
        ")\n",
        "#val_ds = val_ds.take(10000)\n",
        "test_ds = keras.utils.text_dataset_from_directory(\n",
        "    \"aclImdb/test\", batch_size=batch_size\n",
        ")\n",
        "text_only_train_ds = train_ds.map(lambda x, y: x)\n",
        "from tensorflow.keras import layers\n",
        "\n",
        "max_length = 150 # change 1 : 150 Cutoff reviews after 150 words\n",
        "max_tokens = 10000\n",
        "text_vectorization = layers.TextVectorization(\n",
        "    max_tokens=max_tokens,\n",
        "    output_mode=\"int\",\n",
        "    output_sequence_length=max_length,\n",
        ")\n",
        "text_vectorization.adapt(text_only_train_ds)\n",
        "\n",
        "train_ds = train_ds.take(100)\n",
        "int_train_ds = train_ds.map(\n",
        "    lambda x, y: (text_vectorization(x), y),\n",
        "    num_parallel_calls=4)\n",
        "val_ds = val_ds.take(10000)\n",
        "int_val_ds = val_ds.map(\n",
        "    lambda x, y: (text_vectorization(x), y),\n",
        "    num_parallel_calls=4)\n",
        "int_test_ds = test_ds.map(\n",
        "    lambda x, y: (text_vectorization(x), y),\n",
        "    num_parallel_calls=4)"
      ]
    },
    {
      "cell_type": "markdown",
      "metadata": {
        "id": "NW0_KDINzGmi"
      },
      "source": [
        "**A sequence model built on one-hot encoded vector sequences**"
      ]
    },
    {
      "cell_type": "code",
      "execution_count": null,
      "metadata": {
        "colab": {
          "base_uri": "https://localhost:8080/"
        },
        "id": "f-iSMHSpzGmi",
        "outputId": "71e4abdb-06ef-40cb-ff1f-65ab78e6a15a"
      },
      "outputs": [
        {
          "output_type": "stream",
          "name": "stdout",
          "text": [
            "Model: \"model\"\n",
            "_________________________________________________________________\n",
            " Layer (type)                Output Shape              Param #   \n",
            "=================================================================\n",
            " input_1 (InputLayer)        [(None, None)]            0         \n",
            "                                                                 \n",
            " tf.one_hot (TFOpLambda)     (None, None, 10000)       0         \n",
            "                                                                 \n",
            " bidirectional (Bidirectiona  (None, 64)               2568448   \n",
            " l)                                                              \n",
            "                                                                 \n",
            " dropout (Dropout)           (None, 64)                0         \n",
            "                                                                 \n",
            " dense (Dense)               (None, 1)                 65        \n",
            "                                                                 \n",
            "=================================================================\n",
            "Total params: 2,568,513\n",
            "Trainable params: 2,568,513\n",
            "Non-trainable params: 0\n",
            "_________________________________________________________________\n"
          ]
        }
      ],
      "source": [
        "import tensorflow as tf\n",
        "inputs = keras.Input(shape=(None,), dtype=\"int64\")\n",
        "embedded = tf.one_hot(inputs, depth=max_tokens)\n",
        "x = layers.Bidirectional(layers.LSTM(32))(embedded)\n",
        "x = layers.Dropout(0.5)(x)\n",
        "outputs = layers.Dense(1, activation=\"sigmoid\")(x)\n",
        "model = keras.Model(inputs, outputs)\n",
        "model.compile(optimizer=\"rmsprop\",\n",
        "              loss=\"binary_crossentropy\",\n",
        "              metrics=[\"accuracy\"])\n",
        "model.summary()"
      ]
    },
    {
      "cell_type": "markdown",
      "metadata": {
        "id": "Qxx38lKpzGmj"
      },
      "source": [
        "**Training a first basic sequence model**"
      ]
    },
    {
      "cell_type": "code",
      "execution_count": null,
      "metadata": {
        "colab": {
          "base_uri": "https://localhost:8080/"
        },
        "id": "7OIXK-lWzGmj",
        "outputId": "cee105c4-1b41-468d-af68-07bc89db2ae8"
      },
      "outputs": [
        {
          "output_type": "stream",
          "name": "stdout",
          "text": [
            "Epoch 1/10\n",
            "100/100 [==============================] - 19s 105ms/step - loss: 0.6925 - accuracy: 0.5116 - val_loss: 0.6907 - val_accuracy: 0.5542\n",
            "Epoch 2/10\n",
            "100/100 [==============================] - 9s 89ms/step - loss: 0.6675 - accuracy: 0.6234 - val_loss: 0.6340 - val_accuracy: 0.6522\n",
            "Epoch 3/10\n",
            "100/100 [==============================] - 7s 67ms/step - loss: 0.5498 - accuracy: 0.7503 - val_loss: 0.6326 - val_accuracy: 0.6908\n",
            "Epoch 4/10\n",
            "100/100 [==============================] - 7s 72ms/step - loss: 0.4339 - accuracy: 0.8341 - val_loss: 0.4693 - val_accuracy: 0.7910\n",
            "Epoch 5/10\n",
            "100/100 [==============================] - 9s 89ms/step - loss: 0.3417 - accuracy: 0.8894 - val_loss: 0.4529 - val_accuracy: 0.7756\n",
            "Epoch 6/10\n",
            "100/100 [==============================] - 9s 89ms/step - loss: 0.2814 - accuracy: 0.9044 - val_loss: 0.5425 - val_accuracy: 0.8014\n",
            "Epoch 7/10\n",
            "100/100 [==============================] - 9s 89ms/step - loss: 0.2528 - accuracy: 0.9219 - val_loss: 0.5347 - val_accuracy: 0.7952\n",
            "Epoch 8/10\n",
            "100/100 [==============================] - 9s 92ms/step - loss: 0.2040 - accuracy: 0.9372 - val_loss: 0.5105 - val_accuracy: 0.7770\n",
            "Epoch 9/10\n",
            "100/100 [==============================] - 9s 89ms/step - loss: 0.1912 - accuracy: 0.9422 - val_loss: 0.4636 - val_accuracy: 0.8076\n",
            "Epoch 10/10\n",
            "100/100 [==============================] - 9s 89ms/step - loss: 0.1678 - accuracy: 0.9541 - val_loss: 0.4994 - val_accuracy: 0.8108\n",
            "782/782 [==============================] - 18s 21ms/step - loss: 0.4602 - accuracy: 0.7703\n",
            "Test acc: 0.770\n"
          ]
        }
      ],
      "source": [
        "callbacks = [\n",
        "    keras.callbacks.ModelCheckpoint(\"one_hot_bidir_lstm.keras\",\n",
        "                                    save_best_only=True)\n",
        "]\n",
        "model.fit(int_train_ds, validation_data=int_val_ds, epochs=10, callbacks=callbacks)\n",
        "model = keras.models.load_model(\"one_hot_bidir_lstm.keras\")\n",
        "print(f\"Test acc: {model.evaluate(int_test_ds)[1]:.3f}\")"
      ]
    },
    {
      "cell_type": "markdown",
      "metadata": {
        "id": "JKW0yb6AzGmj"
      },
      "source": [
        "#### Understanding word embeddings"
      ]
    },
    {
      "cell_type": "markdown",
      "metadata": {
        "id": "3irO5M27zGmj"
      },
      "source": [
        "#### Learning word embeddings with the Embedding layer"
      ]
    },
    {
      "cell_type": "markdown",
      "metadata": {
        "id": "owQ7BSI-zGmj"
      },
      "source": [
        "**Instantiating an `Embedding` layer**"
      ]
    },
    {
      "cell_type": "code",
      "execution_count": null,
      "metadata": {
        "id": "pD3uFbWIzGmk"
      },
      "outputs": [],
      "source": [
        "embedding_layer = layers.Embedding(input_dim=max_tokens, output_dim=256)"
      ]
    },
    {
      "cell_type": "markdown",
      "metadata": {
        "id": "QPJtdlrAzGmk"
      },
      "source": [
        "**Model that uses an `Embedding` layer trained from scratch**"
      ]
    },
    {
      "cell_type": "code",
      "execution_count": null,
      "metadata": {
        "colab": {
          "base_uri": "https://localhost:8080/"
        },
        "id": "9p6u4IAOzGmk",
        "outputId": "de7d9b77-61c1-4e80-ad3b-f378c2426d52"
      },
      "outputs": [
        {
          "output_type": "stream",
          "name": "stdout",
          "text": [
            "Model: \"model_1\"\n",
            "_________________________________________________________________\n",
            " Layer (type)                Output Shape              Param #   \n",
            "=================================================================\n",
            " input_2 (InputLayer)        [(None, None)]            0         \n",
            "                                                                 \n",
            " embedding_1 (Embedding)     (None, None, 256)         2560000   \n",
            "                                                                 \n",
            " bidirectional_1 (Bidirectio  (None, 64)               73984     \n",
            " nal)                                                            \n",
            "                                                                 \n",
            " dropout_1 (Dropout)         (None, 64)                0         \n",
            "                                                                 \n",
            " dense_1 (Dense)             (None, 1)                 65        \n",
            "                                                                 \n",
            "=================================================================\n",
            "Total params: 2,634,049\n",
            "Trainable params: 2,634,049\n",
            "Non-trainable params: 0\n",
            "_________________________________________________________________\n",
            "Epoch 1/10\n",
            "100/100 [==============================] - 21s 171ms/step - loss: 0.6874 - accuracy: 0.5553 - val_loss: 0.6615 - val_accuracy: 0.6158\n",
            "Epoch 2/10\n",
            "100/100 [==============================] - 9s 92ms/step - loss: 0.5843 - accuracy: 0.7013 - val_loss: 0.5119 - val_accuracy: 0.7674\n",
            "Epoch 3/10\n",
            "100/100 [==============================] - 9s 85ms/step - loss: 0.4293 - accuracy: 0.8259 - val_loss: 0.4694 - val_accuracy: 0.7874\n",
            "Epoch 4/10\n",
            "100/100 [==============================] - 6s 65ms/step - loss: 0.3147 - accuracy: 0.8844 - val_loss: 0.4832 - val_accuracy: 0.7894\n",
            "Epoch 5/10\n",
            "100/100 [==============================] - 5s 48ms/step - loss: 0.2251 - accuracy: 0.9216 - val_loss: 0.5259 - val_accuracy: 0.7590\n",
            "Epoch 6/10\n",
            "100/100 [==============================] - 5s 52ms/step - loss: 0.1609 - accuracy: 0.9491 - val_loss: 0.5142 - val_accuracy: 0.7940\n",
            "Epoch 7/10\n",
            "100/100 [==============================] - 4s 40ms/step - loss: 0.1212 - accuracy: 0.9631 - val_loss: 0.5515 - val_accuracy: 0.7916\n",
            "Epoch 8/10\n",
            "100/100 [==============================] - 4s 39ms/step - loss: 0.0979 - accuracy: 0.9716 - val_loss: 0.5788 - val_accuracy: 0.7638\n",
            "Epoch 9/10\n",
            "100/100 [==============================] - 4s 45ms/step - loss: 0.0589 - accuracy: 0.9837 - val_loss: 0.6615 - val_accuracy: 0.7860\n",
            "Epoch 10/10\n",
            "100/100 [==============================] - 3s 35ms/step - loss: 0.0492 - accuracy: 0.9850 - val_loss: 0.9174 - val_accuracy: 0.6986\n",
            "782/782 [==============================] - 8s 10ms/step - loss: 0.4714 - accuracy: 0.7886\n",
            "Test acc: 0.789\n"
          ]
        }
      ],
      "source": [
        "inputs = keras.Input(shape=(None,), dtype=\"int64\")\n",
        "embedded = layers.Embedding(input_dim=max_tokens, output_dim=256)(inputs)\n",
        "x = layers.Bidirectional(layers.LSTM(32))(embedded)\n",
        "x = layers.Dropout(0.5)(x)\n",
        "outputs = layers.Dense(1, activation=\"sigmoid\")(x)\n",
        "model = keras.Model(inputs, outputs)\n",
        "model.compile(optimizer=\"rmsprop\",\n",
        "              loss=\"binary_crossentropy\",\n",
        "              metrics=[\"accuracy\"])\n",
        "model.summary()\n",
        "\n",
        "callbacks = [\n",
        "    keras.callbacks.ModelCheckpoint(\"embeddings_bidir_gru.keras\",\n",
        "                                    save_best_only=True)\n",
        "]\n",
        "model.fit(int_train_ds, validation_data=int_val_ds, epochs=10, callbacks=callbacks)\n",
        "model = keras.models.load_model(\"embeddings_bidir_gru.keras\")\n",
        "print(f\"Test acc: {model.evaluate(int_test_ds)[1]:.3f}\")"
      ]
    },
    {
      "cell_type": "markdown",
      "metadata": {
        "id": "UgXEL3cMzGmk"
      },
      "source": [
        "#### Understanding padding and masking"
      ]
    },
    {
      "cell_type": "markdown",
      "metadata": {
        "id": "0bY8zog-zGmk"
      },
      "source": [
        "**Using an `Embedding` layer with masking enabled**"
      ]
    },
    {
      "cell_type": "code",
      "execution_count": null,
      "metadata": {
        "colab": {
          "base_uri": "https://localhost:8080/"
        },
        "id": "RbdnbIVVzGmk",
        "outputId": "3d9a0661-b69d-45dd-8922-479fc35fdcc5"
      },
      "outputs": [
        {
          "output_type": "stream",
          "name": "stdout",
          "text": [
            "Model: \"model_2\"\n",
            "_________________________________________________________________\n",
            " Layer (type)                Output Shape              Param #   \n",
            "=================================================================\n",
            " input_3 (InputLayer)        [(None, None)]            0         \n",
            "                                                                 \n",
            " embedding_2 (Embedding)     (None, None, 256)         2560000   \n",
            "                                                                 \n",
            " bidirectional_2 (Bidirectio  (None, 64)               73984     \n",
            " nal)                                                            \n",
            "                                                                 \n",
            " dropout_2 (Dropout)         (None, 64)                0         \n",
            "                                                                 \n",
            " dense_2 (Dense)             (None, 1)                 65        \n",
            "                                                                 \n",
            "=================================================================\n",
            "Total params: 2,634,049\n",
            "Trainable params: 2,634,049\n",
            "Non-trainable params: 0\n",
            "_________________________________________________________________\n",
            "Epoch 1/10\n",
            "100/100 [==============================] - 25s 166ms/step - loss: 0.6828 - accuracy: 0.5550 - val_loss: 0.6283 - val_accuracy: 0.6702\n",
            "Epoch 2/10\n",
            "100/100 [==============================] - 9s 93ms/step - loss: 0.5330 - accuracy: 0.7444 - val_loss: 0.4835 - val_accuracy: 0.7674\n",
            "Epoch 3/10\n",
            "100/100 [==============================] - 10s 101ms/step - loss: 0.3574 - accuracy: 0.8556 - val_loss: 0.4580 - val_accuracy: 0.8020\n",
            "Epoch 4/10\n",
            "100/100 [==============================] - 7s 70ms/step - loss: 0.2538 - accuracy: 0.9109 - val_loss: 0.4302 - val_accuracy: 0.8006\n",
            "Epoch 5/10\n",
            "100/100 [==============================] - 7s 74ms/step - loss: 0.1753 - accuracy: 0.9450 - val_loss: 0.5018 - val_accuracy: 0.8042\n",
            "Epoch 6/10\n",
            "100/100 [==============================] - 6s 62ms/step - loss: 0.1325 - accuracy: 0.9575 - val_loss: 0.5151 - val_accuracy: 0.7690\n",
            "Epoch 7/10\n",
            "100/100 [==============================] - 5s 51ms/step - loss: 0.0828 - accuracy: 0.9753 - val_loss: 0.7058 - val_accuracy: 0.7732\n",
            "Epoch 8/10\n",
            "100/100 [==============================] - 4s 41ms/step - loss: 0.0716 - accuracy: 0.9766 - val_loss: 0.5592 - val_accuracy: 0.7992\n",
            "Epoch 9/10\n",
            "100/100 [==============================] - 6s 64ms/step - loss: 0.0450 - accuracy: 0.9844 - val_loss: 0.6215 - val_accuracy: 0.7854\n",
            "Epoch 10/10\n",
            "100/100 [==============================] - 4s 41ms/step - loss: 0.0276 - accuracy: 0.9934 - val_loss: 0.6541 - val_accuracy: 0.7980\n",
            "782/782 [==============================] - 12s 12ms/step - loss: 0.4263 - accuracy: 0.8080\n",
            "Test acc: 0.808\n"
          ]
        }
      ],
      "source": [
        "inputs = keras.Input(shape=(None,), dtype=\"int64\")\n",
        "embedded = layers.Embedding(\n",
        "    input_dim=max_tokens, output_dim=256, mask_zero=True)(inputs)\n",
        "x = layers.Bidirectional(layers.LSTM(32))(embedded)\n",
        "x = layers.Dropout(0.5)(x)\n",
        "outputs = layers.Dense(1, activation=\"sigmoid\")(x)\n",
        "model = keras.Model(inputs, outputs)\n",
        "model.compile(optimizer=\"rmsprop\",\n",
        "              loss=\"binary_crossentropy\",\n",
        "              metrics=[\"accuracy\"])\n",
        "model.summary()\n",
        "\n",
        "callbacks = [\n",
        "    keras.callbacks.ModelCheckpoint(\"embeddings_bidir_gru_with_masking.keras\",\n",
        "                                    save_best_only=True)\n",
        "]\n",
        "model.fit(int_train_ds, validation_data=int_val_ds, epochs=10, callbacks=callbacks)\n",
        "model = keras.models.load_model(\"embeddings_bidir_gru_with_masking.keras\")\n",
        "print(f\"Test acc: {model.evaluate(int_test_ds)[1]:.3f}\")"
      ]
    },
    {
      "cell_type": "markdown",
      "metadata": {
        "id": "R-6H4f9mzGmk"
      },
      "source": [
        "#### Using pretrained word embeddings"
      ]
    },
    {
      "cell_type": "code",
      "execution_count": null,
      "metadata": {
        "colab": {
          "base_uri": "https://localhost:8080/"
        },
        "id": "hBk_S_fOzGml",
        "outputId": "47b6489f-6b2a-42de-bcf6-389e61c5dad4"
      },
      "outputs": [
        {
          "output_type": "stream",
          "name": "stdout",
          "text": [
            "--2023-04-22 23:56:18--  http://nlp.stanford.edu/data/glove.6B.zip\n",
            "Resolving nlp.stanford.edu (nlp.stanford.edu)... 171.64.67.140\n",
            "Connecting to nlp.stanford.edu (nlp.stanford.edu)|171.64.67.140|:80... connected.\n",
            "HTTP request sent, awaiting response... 302 Found\n",
            "Location: https://nlp.stanford.edu/data/glove.6B.zip [following]\n",
            "--2023-04-22 23:56:18--  https://nlp.stanford.edu/data/glove.6B.zip\n",
            "Connecting to nlp.stanford.edu (nlp.stanford.edu)|171.64.67.140|:443... connected.\n",
            "HTTP request sent, awaiting response... 301 Moved Permanently\n",
            "Location: https://downloads.cs.stanford.edu/nlp/data/glove.6B.zip [following]\n",
            "--2023-04-22 23:56:19--  https://downloads.cs.stanford.edu/nlp/data/glove.6B.zip\n",
            "Resolving downloads.cs.stanford.edu (downloads.cs.stanford.edu)... 171.64.64.22\n",
            "Connecting to downloads.cs.stanford.edu (downloads.cs.stanford.edu)|171.64.64.22|:443... connected.\n",
            "HTTP request sent, awaiting response... 200 OK\n",
            "Length: 862182613 (822M) [application/zip]\n",
            "Saving to: ‘glove.6B.zip’\n",
            "\n",
            "glove.6B.zip        100%[===================>] 822.24M  5.13MB/s    in 2m 39s  \n",
            "\n",
            "2023-04-22 23:58:58 (5.18 MB/s) - ‘glove.6B.zip’ saved [862182613/862182613]\n",
            "\n"
          ]
        }
      ],
      "source": [
        "!wget http://nlp.stanford.edu/data/glove.6B.zip\n",
        "!unzip -q glove.6B.zip"
      ]
    },
    {
      "cell_type": "markdown",
      "metadata": {
        "id": "iiWORA7xzGml"
      },
      "source": [
        "**Parsing the GloVe word-embeddings file**"
      ]
    },
    {
      "cell_type": "code",
      "execution_count": null,
      "metadata": {
        "colab": {
          "base_uri": "https://localhost:8080/"
        },
        "id": "1YcJ2fRNzGml",
        "outputId": "3d4da5bb-900a-443f-ff49-bd90e4220c49"
      },
      "outputs": [
        {
          "output_type": "stream",
          "name": "stdout",
          "text": [
            "Found 400000 word vectors.\n"
          ]
        }
      ],
      "source": [
        "import numpy as np\n",
        "path_to_glove_file = \"glove.6B.100d.txt\"\n",
        "\n",
        "embeddings_index = {}\n",
        "with open(path_to_glove_file) as f:\n",
        "    for line in f:\n",
        "        word, coefs = line.split(maxsplit=1)\n",
        "        coefs = np.fromstring(coefs, \"f\", sep=\" \")\n",
        "        embeddings_index[word] = coefs\n",
        "\n",
        "print(f\"Found {len(embeddings_index)} word vectors.\")"
      ]
    },
    {
      "cell_type": "markdown",
      "metadata": {
        "id": "ImAboinezGml"
      },
      "source": [
        "**Preparing the GloVe word-embeddings matrix**"
      ]
    },
    {
      "cell_type": "code",
      "execution_count": null,
      "metadata": {
        "id": "OFNdbkIozGmm"
      },
      "outputs": [],
      "source": [
        "embedding_dim = 100\n",
        "\n",
        "vocabulary = text_vectorization.get_vocabulary()\n",
        "word_index = dict(zip(vocabulary, range(len(vocabulary))))\n",
        "\n",
        "embedding_matrix = np.zeros((max_tokens, embedding_dim))\n",
        "for word, i in word_index.items():\n",
        "    if i < max_tokens:\n",
        "        embedding_vector = embeddings_index.get(word)\n",
        "    if embedding_vector is not None:\n",
        "        embedding_matrix[i] = embedding_vector"
      ]
    },
    {
      "cell_type": "code",
      "execution_count": null,
      "metadata": {
        "id": "GIVFqwHhzGmm"
      },
      "outputs": [],
      "source": [
        "embedding_layer = layers.Embedding(\n",
        "    max_tokens,\n",
        "    embedding_dim,\n",
        "    embeddings_initializer=keras.initializers.Constant(embedding_matrix),\n",
        "    trainable=False,\n",
        "    mask_zero=True,\n",
        ")"
      ]
    },
    {
      "cell_type": "markdown",
      "metadata": {
        "id": "MulNB9RFzGmm"
      },
      "source": [
        "**Model that uses a pretrained Embedding layer**"
      ]
    },
    {
      "cell_type": "code",
      "execution_count": null,
      "metadata": {
        "id": "i5JzwvyuzGmm",
        "colab": {
          "base_uri": "https://localhost:8080/"
        },
        "outputId": "9010bcb2-1756-4fce-b830-42f2358bbd06"
      },
      "outputs": [
        {
          "output_type": "stream",
          "name": "stdout",
          "text": [
            "Model: \"model_3\"\n",
            "_________________________________________________________________\n",
            " Layer (type)                Output Shape              Param #   \n",
            "=================================================================\n",
            " input_4 (InputLayer)        [(None, None)]            0         \n",
            "                                                                 \n",
            " embedding_3 (Embedding)     (None, None, 100)         1000000   \n",
            "                                                                 \n",
            " bidirectional_3 (Bidirectio  (None, 64)               34048     \n",
            " nal)                                                            \n",
            "                                                                 \n",
            " dropout_3 (Dropout)         (None, 64)                0         \n",
            "                                                                 \n",
            " dense_3 (Dense)             (None, 1)                 65        \n",
            "                                                                 \n",
            "=================================================================\n",
            "Total params: 1,034,113\n",
            "Trainable params: 34,113\n",
            "Non-trainable params: 1,000,000\n",
            "_________________________________________________________________\n",
            "Epoch 1/10\n",
            "100/100 [==============================] - 18s 85ms/step - loss: 0.6951 - accuracy: 0.5344 - val_loss: 0.6668 - val_accuracy: 0.5876\n",
            "Epoch 2/10\n",
            "100/100 [==============================] - 4s 44ms/step - loss: 0.6458 - accuracy: 0.6291 - val_loss: 0.6129 - val_accuracy: 0.6766\n",
            "Epoch 3/10\n",
            "100/100 [==============================] - 5s 45ms/step - loss: 0.5917 - accuracy: 0.6812 - val_loss: 0.6320 - val_accuracy: 0.6566\n",
            "Epoch 4/10\n",
            "100/100 [==============================] - 4s 44ms/step - loss: 0.5672 - accuracy: 0.7172 - val_loss: 0.5397 - val_accuracy: 0.7372\n",
            "Epoch 5/10\n",
            "100/100 [==============================] - 5s 47ms/step - loss: 0.5251 - accuracy: 0.7538 - val_loss: 0.5892 - val_accuracy: 0.6898\n",
            "Epoch 6/10\n",
            "100/100 [==============================] - 6s 57ms/step - loss: 0.5007 - accuracy: 0.7628 - val_loss: 0.5058 - val_accuracy: 0.7562\n",
            "Epoch 7/10\n",
            "100/100 [==============================] - 6s 55ms/step - loss: 0.4831 - accuracy: 0.7772 - val_loss: 0.4820 - val_accuracy: 0.7732\n",
            "Epoch 8/10\n",
            "100/100 [==============================] - 5s 49ms/step - loss: 0.4643 - accuracy: 0.7906 - val_loss: 0.4901 - val_accuracy: 0.7644\n",
            "Epoch 9/10\n",
            "100/100 [==============================] - 4s 44ms/step - loss: 0.4484 - accuracy: 0.7975 - val_loss: 0.4703 - val_accuracy: 0.7756\n",
            "Epoch 10/10\n",
            "100/100 [==============================] - 4s 35ms/step - loss: 0.4260 - accuracy: 0.8047 - val_loss: 0.5032 - val_accuracy: 0.7570\n",
            "782/782 [==============================] - 11s 11ms/step - loss: 0.4716 - accuracy: 0.7776\n",
            "Test acc: 0.778\n"
          ]
        }
      ],
      "source": [
        "inputs = keras.Input(shape=(None,), dtype=\"int64\")\n",
        "embedded = embedding_layer(inputs)\n",
        "x = layers.Bidirectional(layers.LSTM(32))(embedded)\n",
        "x = layers.Dropout(0.5)(x)\n",
        "outputs = layers.Dense(1, activation=\"sigmoid\")(x)\n",
        "model = keras.Model(inputs, outputs)\n",
        "model.compile(optimizer=\"rmsprop\",\n",
        "              loss=\"binary_crossentropy\",\n",
        "              metrics=[\"accuracy\"])\n",
        "model.summary()\n",
        "\n",
        "callbacks = [\n",
        "    keras.callbacks.ModelCheckpoint(\"glove_embeddings_sequence_model.keras\",\n",
        "                                    save_best_only=True)\n",
        "]\n",
        "model.fit(int_train_ds, validation_data=int_val_ds, epochs=10, callbacks=callbacks)\n",
        "model = keras.models.load_model(\"glove_embeddings_sequence_model.keras\")\n",
        "print(f\"Test acc: {model.evaluate(int_test_ds)[1]:.3f}\")"
      ]
    }
  ],
  "metadata": {
    "accelerator": "GPU",
    "colab": {
      "provenance": [],
      "toc_visible": true
    },
    "gpuClass": "standard",
    "kernelspec": {
      "display_name": "Python 3",
      "language": "python",
      "name": "python3"
    },
    "language_info": {
      "codemirror_mode": {
        "name": "ipython",
        "version": 3
      },
      "file_extension": ".py",
      "mimetype": "text/x-python",
      "name": "python",
      "nbconvert_exporter": "python",
      "pygments_lexer": "ipython3",
      "version": "3.7.0"
    }
  },
  "nbformat": 4,
  "nbformat_minor": 0
}
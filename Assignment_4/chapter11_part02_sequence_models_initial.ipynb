{
  "cells": [
    {
      "cell_type": "markdown",
      "metadata": {
        "id": "t9x3ZAqzCvZI"
      },
      "source": [
        "This is a companion notebook for the book [Deep Learning with Python, Second Edition](https://www.manning.com/books/deep-learning-with-python-second-edition?a_aid=keras&a_bid=76564dff). For readability, it only contains runnable code blocks and section titles, and omits everything else in the book: text paragraphs, figures, and pseudocode.\n",
        "\n",
        "**If you want to be able to follow what's going on, I recommend reading the notebook side by side with your copy of the book.**\n",
        "\n",
        "This notebook was generated for TensorFlow 2.6."
      ]
    },
    {
      "cell_type": "markdown",
      "metadata": {
        "id": "eW0zKHjVCvZJ"
      },
      "source": [
        "### Processing words as a sequence: The sequence model approach"
      ]
    },
    {
      "cell_type": "markdown",
      "metadata": {
        "id": "NkzPHJTrCvZJ"
      },
      "source": [
        "#### A first practical example"
      ]
    },
    {
      "cell_type": "markdown",
      "metadata": {
        "id": "0pOSHbCJCvZK"
      },
      "source": [
        "**Downloading the data**"
      ]
    },
    {
      "cell_type": "code",
      "execution_count": 1,
      "metadata": {
        "colab": {
          "base_uri": "https://localhost:8080/"
        },
        "id": "0k-k5i3NCvZK",
        "outputId": "1a96b94a-f75f-41df-90df-aa185b3593a9"
      },
      "outputs": [
        {
          "output_type": "stream",
          "name": "stdout",
          "text": [
            "  % Total    % Received % Xferd  Average Speed   Time    Time     Time  Current\n",
            "                                 Dload  Upload   Total   Spent    Left  Speed\n",
            "100 80.2M  100 80.2M    0     0  29.4M      0  0:00:02  0:00:02 --:--:-- 29.4M\n"
          ]
        }
      ],
      "source": [
        "!curl -O https://ai.stanford.edu/~amaas/data/sentiment/aclImdb_v1.tar.gz\n",
        "!tar -xf aclImdb_v1.tar.gz\n",
        "!rm -r aclImdb/train/unsup"
      ]
    },
    {
      "cell_type": "markdown",
      "metadata": {
        "id": "Ltak-X3ECvZK"
      },
      "source": [
        "**Preparing the data**"
      ]
    },
    {
      "cell_type": "code",
      "execution_count": 2,
      "metadata": {
        "colab": {
          "base_uri": "https://localhost:8080/"
        },
        "id": "DkCG3WQTCvZL",
        "outputId": "daaea7e0-6b15-49ff-f0dc-da37db084f01"
      },
      "outputs": [
        {
          "output_type": "stream",
          "name": "stdout",
          "text": [
            "Found 20000 files belonging to 2 classes.\n",
            "Found 5000 files belonging to 2 classes.\n",
            "Found 25000 files belonging to 2 classes.\n"
          ]
        }
      ],
      "source": [
        "import os, pathlib, shutil, random\n",
        "from tensorflow import keras\n",
        "batch_size = 32\n",
        "base_dir = pathlib.Path(\"aclImdb\")\n",
        "val_dir = base_dir / \"val\"\n",
        "train_dir = base_dir / \"train\"\n",
        "for category in (\"neg\", \"pos\"):\n",
        "    os.makedirs(val_dir / category)\n",
        "    files = os.listdir(train_dir / category)\n",
        "    random.Random(1337).shuffle(files)\n",
        "    num_val_samples = int(0.2 * len(files))\n",
        "    val_files = files[-num_val_samples:]\n",
        "    for fname in val_files:\n",
        "        shutil.move(train_dir / category / fname,\n",
        "                    val_dir / category / fname)\n",
        "\n",
        "train_ds = keras.utils.text_dataset_from_directory(\n",
        "    \"aclImdb/train\", batch_size=batch_size\n",
        ")\n",
        "val_ds = keras.utils.text_dataset_from_directory(\n",
        "    \"aclImdb/val\", batch_size=batch_size\n",
        ")\n",
        "test_ds = keras.utils.text_dataset_from_directory(\n",
        "    \"aclImdb/test\", batch_size=batch_size\n",
        ")\n",
        "text_only_train_ds = train_ds.map(lambda x, y: x)"
      ]
    },
    {
      "cell_type": "markdown",
      "metadata": {
        "id": "fABLSoY_CvZL"
      },
      "source": [
        "**Preparing integer sequence datasets**"
      ]
    },
    {
      "cell_type": "code",
      "execution_count": 3,
      "metadata": {
        "id": "nHnH1epCCvZL"
      },
      "outputs": [],
      "source": [
        "from tensorflow.keras import layers\n",
        "\n",
        "max_length = 600\n",
        "max_tokens = 20000\n",
        "text_vectorization = layers.TextVectorization(\n",
        "    max_tokens=max_tokens,\n",
        "    output_mode=\"int\",\n",
        "    output_sequence_length=max_length,\n",
        ")\n",
        "text_vectorization.adapt(text_only_train_ds)\n",
        "\n",
        "int_train_ds = train_ds.map(\n",
        "    lambda x, y: (text_vectorization(x), y),\n",
        "    num_parallel_calls=4)\n",
        "int_val_ds = val_ds.map(\n",
        "    lambda x, y: (text_vectorization(x), y),\n",
        "    num_parallel_calls=4)\n",
        "int_test_ds = test_ds.map(\n",
        "    lambda x, y: (text_vectorization(x), y),\n",
        "    num_parallel_calls=4)"
      ]
    },
    {
      "cell_type": "markdown",
      "metadata": {
        "id": "QJGmW-F_CvZM"
      },
      "source": [
        "**A sequence model built on one-hot encoded vector sequences**"
      ]
    },
    {
      "cell_type": "code",
      "execution_count": 4,
      "metadata": {
        "colab": {
          "base_uri": "https://localhost:8080/"
        },
        "id": "P3hYvmaxCvZM",
        "outputId": "096bde92-8887-4574-8bf0-ebc552cb3cd3"
      },
      "outputs": [
        {
          "output_type": "stream",
          "name": "stdout",
          "text": [
            "Model: \"model\"\n",
            "_________________________________________________________________\n",
            " Layer (type)                Output Shape              Param #   \n",
            "=================================================================\n",
            " input_1 (InputLayer)        [(None, None)]            0         \n",
            "                                                                 \n",
            " tf.one_hot (TFOpLambda)     (None, None, 20000)       0         \n",
            "                                                                 \n",
            " bidirectional (Bidirectiona  (None, 64)               5128448   \n",
            " l)                                                              \n",
            "                                                                 \n",
            " dropout (Dropout)           (None, 64)                0         \n",
            "                                                                 \n",
            " dense (Dense)               (None, 1)                 65        \n",
            "                                                                 \n",
            "=================================================================\n",
            "Total params: 5,128,513\n",
            "Trainable params: 5,128,513\n",
            "Non-trainable params: 0\n",
            "_________________________________________________________________\n"
          ]
        }
      ],
      "source": [
        "import tensorflow as tf\n",
        "inputs = keras.Input(shape=(None,), dtype=\"int64\")\n",
        "embedded = tf.one_hot(inputs, depth=max_tokens)\n",
        "x = layers.Bidirectional(layers.LSTM(32))(embedded)\n",
        "x = layers.Dropout(0.5)(x)\n",
        "outputs = layers.Dense(1, activation=\"sigmoid\")(x)\n",
        "model = keras.Model(inputs, outputs)\n",
        "model.compile(optimizer=\"rmsprop\",\n",
        "              loss=\"binary_crossentropy\",\n",
        "              metrics=[\"accuracy\"])\n",
        "model.summary()"
      ]
    },
    {
      "cell_type": "markdown",
      "metadata": {
        "id": "nXsMCk8TCvZM"
      },
      "source": [
        "**Training a first basic sequence model**"
      ]
    },
    {
      "cell_type": "code",
      "execution_count": 5,
      "metadata": {
        "colab": {
          "base_uri": "https://localhost:8080/"
        },
        "id": "81DeJJJ6CvZN",
        "outputId": "d724958c-d2e9-413a-b955-3acf9d823f20"
      },
      "outputs": [
        {
          "output_type": "stream",
          "name": "stdout",
          "text": [
            "Epoch 1/10\n",
            "625/625 [==============================] - 44s 56ms/step - loss: 0.5651 - accuracy: 0.7038 - val_loss: 0.3725 - val_accuracy: 0.8530\n",
            "Epoch 2/10\n",
            "625/625 [==============================] - 34s 55ms/step - loss: 0.3546 - accuracy: 0.8680 - val_loss: 0.3199 - val_accuracy: 0.8786\n",
            "Epoch 3/10\n",
            "625/625 [==============================] - 34s 55ms/step - loss: 0.2824 - accuracy: 0.9011 - val_loss: 0.3036 - val_accuracy: 0.8742\n",
            "Epoch 4/10\n",
            "625/625 [==============================] - 34s 55ms/step - loss: 0.2449 - accuracy: 0.9171 - val_loss: 0.5079 - val_accuracy: 0.8236\n",
            "Epoch 5/10\n",
            "625/625 [==============================] - 34s 55ms/step - loss: 0.2184 - accuracy: 0.9265 - val_loss: 0.4440 - val_accuracy: 0.8714\n",
            "Epoch 6/10\n",
            "625/625 [==============================] - 34s 54ms/step - loss: 0.1914 - accuracy: 0.9377 - val_loss: 0.4340 - val_accuracy: 0.8816\n",
            "Epoch 7/10\n",
            "625/625 [==============================] - 34s 55ms/step - loss: 0.1718 - accuracy: 0.9434 - val_loss: 0.3836 - val_accuracy: 0.8792\n",
            "Epoch 8/10\n",
            "625/625 [==============================] - 34s 55ms/step - loss: 0.1523 - accuracy: 0.9504 - val_loss: 0.5388 - val_accuracy: 0.8640\n",
            "Epoch 9/10\n",
            "625/625 [==============================] - 34s 55ms/step - loss: 0.1348 - accuracy: 0.9574 - val_loss: 0.3739 - val_accuracy: 0.8786\n",
            "Epoch 10/10\n",
            "625/625 [==============================] - 34s 54ms/step - loss: 0.1081 - accuracy: 0.9668 - val_loss: 0.3826 - val_accuracy: 0.8624\n",
            "782/782 [==============================] - 23s 28ms/step - loss: 0.3073 - accuracy: 0.8760\n",
            "Test acc: 0.876\n"
          ]
        }
      ],
      "source": [
        "callbacks = [\n",
        "    keras.callbacks.ModelCheckpoint(\"one_hot_bidir_lstm.keras\",\n",
        "                                    save_best_only=True)\n",
        "]\n",
        "model.fit(int_train_ds, validation_data=int_val_ds, epochs=10, callbacks=callbacks)\n",
        "model = keras.models.load_model(\"one_hot_bidir_lstm.keras\")\n",
        "print(f\"Test acc: {model.evaluate(int_test_ds)[1]:.3f}\")"
      ]
    },
    {
      "cell_type": "markdown",
      "metadata": {
        "id": "FbfpJmnaCvZN"
      },
      "source": [
        "#### Understanding word embeddings"
      ]
    },
    {
      "cell_type": "markdown",
      "metadata": {
        "id": "v--KMxCyCvZN"
      },
      "source": [
        "#### Learning word embeddings with the Embedding layer"
      ]
    },
    {
      "cell_type": "markdown",
      "metadata": {
        "id": "vTYoMQJ4CvZN"
      },
      "source": [
        "**Instantiating an `Embedding` layer**"
      ]
    },
    {
      "cell_type": "code",
      "execution_count": 6,
      "metadata": {
        "id": "wOUnlXIXCvZN"
      },
      "outputs": [],
      "source": [
        "embedding_layer = layers.Embedding(input_dim=max_tokens, output_dim=256)"
      ]
    },
    {
      "cell_type": "markdown",
      "metadata": {
        "id": "beobitrgCvZO"
      },
      "source": [
        "**Model that uses an `Embedding` layer trained from scratch**"
      ]
    },
    {
      "cell_type": "code",
      "execution_count": 7,
      "metadata": {
        "colab": {
          "base_uri": "https://localhost:8080/"
        },
        "id": "qwmwHLayCvZO",
        "outputId": "db7b4c9c-2903-4e35-c240-ffcc22959f83"
      },
      "outputs": [
        {
          "output_type": "stream",
          "name": "stdout",
          "text": [
            "Model: \"model_1\"\n",
            "_________________________________________________________________\n",
            " Layer (type)                Output Shape              Param #   \n",
            "=================================================================\n",
            " input_2 (InputLayer)        [(None, None)]            0         \n",
            "                                                                 \n",
            " embedding_1 (Embedding)     (None, None, 256)         5120000   \n",
            "                                                                 \n",
            " bidirectional_1 (Bidirectio  (None, 64)               73984     \n",
            " nal)                                                            \n",
            "                                                                 \n",
            " dropout_1 (Dropout)         (None, 64)                0         \n",
            "                                                                 \n",
            " dense_1 (Dense)             (None, 1)                 65        \n",
            "                                                                 \n",
            "=================================================================\n",
            "Total params: 5,194,049\n",
            "Trainable params: 5,194,049\n",
            "Non-trainable params: 0\n",
            "_________________________________________________________________\n",
            "Epoch 1/10\n",
            "625/625 [==============================] - 86s 133ms/step - loss: 0.5029 - accuracy: 0.7614 - val_loss: 0.3526 - val_accuracy: 0.8568\n",
            "Epoch 2/10\n",
            "625/625 [==============================] - 49s 78ms/step - loss: 0.3435 - accuracy: 0.8725 - val_loss: 0.3442 - val_accuracy: 0.8662\n",
            "Epoch 3/10\n",
            "625/625 [==============================] - 33s 52ms/step - loss: 0.2774 - accuracy: 0.9009 - val_loss: 0.3835 - val_accuracy: 0.8516\n",
            "Epoch 4/10\n",
            "625/625 [==============================] - 29s 47ms/step - loss: 0.2277 - accuracy: 0.9205 - val_loss: 0.3766 - val_accuracy: 0.8652\n",
            "Epoch 5/10\n",
            "625/625 [==============================] - 27s 44ms/step - loss: 0.2027 - accuracy: 0.9315 - val_loss: 0.4268 - val_accuracy: 0.8564\n",
            "Epoch 6/10\n",
            "625/625 [==============================] - 26s 41ms/step - loss: 0.1717 - accuracy: 0.9445 - val_loss: 0.4152 - val_accuracy: 0.8436\n",
            "Epoch 7/10\n",
            "625/625 [==============================] - 25s 40ms/step - loss: 0.1463 - accuracy: 0.9520 - val_loss: 0.5015 - val_accuracy: 0.8348\n",
            "Epoch 8/10\n",
            "625/625 [==============================] - 24s 39ms/step - loss: 0.1301 - accuracy: 0.9594 - val_loss: 0.4606 - val_accuracy: 0.8650\n",
            "Epoch 9/10\n",
            "625/625 [==============================] - 25s 39ms/step - loss: 0.1106 - accuracy: 0.9664 - val_loss: 0.4302 - val_accuracy: 0.8668\n",
            "Epoch 10/10\n",
            "625/625 [==============================] - 24s 38ms/step - loss: 0.0938 - accuracy: 0.9730 - val_loss: 0.5400 - val_accuracy: 0.8684\n",
            "782/782 [==============================] - 12s 14ms/step - loss: 0.3479 - accuracy: 0.8604\n",
            "Test acc: 0.860\n"
          ]
        }
      ],
      "source": [
        "inputs = keras.Input(shape=(None,), dtype=\"int64\")\n",
        "embedded = layers.Embedding(input_dim=max_tokens, output_dim=256)(inputs)\n",
        "x = layers.Bidirectional(layers.LSTM(32))(embedded)\n",
        "x = layers.Dropout(0.5)(x)\n",
        "outputs = layers.Dense(1, activation=\"sigmoid\")(x)\n",
        "model = keras.Model(inputs, outputs)\n",
        "model.compile(optimizer=\"rmsprop\",\n",
        "              loss=\"binary_crossentropy\",\n",
        "              metrics=[\"accuracy\"])\n",
        "model.summary()\n",
        "\n",
        "callbacks = [\n",
        "    keras.callbacks.ModelCheckpoint(\"embeddings_bidir_gru.keras\",\n",
        "                                    save_best_only=True)\n",
        "]\n",
        "model.fit(int_train_ds, validation_data=int_val_ds, epochs=10, callbacks=callbacks)\n",
        "model = keras.models.load_model(\"embeddings_bidir_gru.keras\")\n",
        "print(f\"Test acc: {model.evaluate(int_test_ds)[1]:.3f}\")"
      ]
    },
    {
      "cell_type": "markdown",
      "metadata": {
        "id": "zQAkdDMiCvZO"
      },
      "source": [
        "#### Understanding padding and masking"
      ]
    },
    {
      "cell_type": "markdown",
      "metadata": {
        "id": "jSYPC6gkCvZO"
      },
      "source": [
        "**Using an `Embedding` layer with masking enabled**"
      ]
    },
    {
      "cell_type": "code",
      "execution_count": 8,
      "metadata": {
        "colab": {
          "base_uri": "https://localhost:8080/"
        },
        "id": "2flxJgGzCvZO",
        "outputId": "fe11809f-e02c-4bc4-8d46-c32cd8abb6a2"
      },
      "outputs": [
        {
          "output_type": "stream",
          "name": "stdout",
          "text": [
            "Model: \"model_2\"\n",
            "_________________________________________________________________\n",
            " Layer (type)                Output Shape              Param #   \n",
            "=================================================================\n",
            " input_3 (InputLayer)        [(None, None)]            0         \n",
            "                                                                 \n",
            " embedding_2 (Embedding)     (None, None, 256)         5120000   \n",
            "                                                                 \n",
            " bidirectional_2 (Bidirectio  (None, 64)               73984     \n",
            " nal)                                                            \n",
            "                                                                 \n",
            " dropout_2 (Dropout)         (None, 64)                0         \n",
            "                                                                 \n",
            " dense_2 (Dense)             (None, 1)                 65        \n",
            "                                                                 \n",
            "=================================================================\n",
            "Total params: 5,194,049\n",
            "Trainable params: 5,194,049\n",
            "Non-trainable params: 0\n",
            "_________________________________________________________________\n",
            "Epoch 1/10\n",
            "625/625 [==============================] - 77s 110ms/step - loss: 0.4498 - accuracy: 0.7832 - val_loss: 0.3446 - val_accuracy: 0.8484\n",
            "Epoch 2/10\n",
            "625/625 [==============================] - 43s 70ms/step - loss: 0.2886 - accuracy: 0.8853 - val_loss: 0.3098 - val_accuracy: 0.8672\n",
            "Epoch 3/10\n",
            "625/625 [==============================] - 33s 54ms/step - loss: 0.2209 - accuracy: 0.9139 - val_loss: 0.3580 - val_accuracy: 0.8512\n",
            "Epoch 4/10\n",
            "625/625 [==============================] - 32s 50ms/step - loss: 0.1700 - accuracy: 0.9372 - val_loss: 0.3688 - val_accuracy: 0.8582\n",
            "Epoch 5/10\n",
            "625/625 [==============================] - 29s 46ms/step - loss: 0.1359 - accuracy: 0.9515 - val_loss: 0.3526 - val_accuracy: 0.8724\n",
            "Epoch 6/10\n",
            "625/625 [==============================] - 29s 47ms/step - loss: 0.0998 - accuracy: 0.9639 - val_loss: 0.3851 - val_accuracy: 0.8652\n",
            "Epoch 7/10\n",
            "625/625 [==============================] - 29s 46ms/step - loss: 0.0772 - accuracy: 0.9738 - val_loss: 0.4189 - val_accuracy: 0.8712\n",
            "Epoch 8/10\n",
            "625/625 [==============================] - 27s 44ms/step - loss: 0.0565 - accuracy: 0.9813 - val_loss: 0.4538 - val_accuracy: 0.8612\n",
            "Epoch 9/10\n",
            "625/625 [==============================] - 26s 42ms/step - loss: 0.0494 - accuracy: 0.9827 - val_loss: 0.6294 - val_accuracy: 0.8600\n",
            "Epoch 10/10\n",
            "625/625 [==============================] - 26s 42ms/step - loss: 0.0420 - accuracy: 0.9877 - val_loss: 0.5773 - val_accuracy: 0.8720\n",
            "782/782 [==============================] - 14s 16ms/step - loss: 0.3182 - accuracy: 0.8640\n",
            "Test acc: 0.864\n"
          ]
        }
      ],
      "source": [
        "inputs = keras.Input(shape=(None,), dtype=\"int64\")\n",
        "embedded = layers.Embedding(\n",
        "    input_dim=max_tokens, output_dim=256, mask_zero=True)(inputs)\n",
        "x = layers.Bidirectional(layers.LSTM(32))(embedded)\n",
        "x = layers.Dropout(0.5)(x)\n",
        "outputs = layers.Dense(1, activation=\"sigmoid\")(x)\n",
        "model = keras.Model(inputs, outputs)\n",
        "model.compile(optimizer=\"rmsprop\",\n",
        "              loss=\"binary_crossentropy\",\n",
        "              metrics=[\"accuracy\"])\n",
        "model.summary()\n",
        "\n",
        "callbacks = [\n",
        "    keras.callbacks.ModelCheckpoint(\"embeddings_bidir_gru_with_masking.keras\",\n",
        "                                    save_best_only=True)\n",
        "]\n",
        "model.fit(int_train_ds, validation_data=int_val_ds, epochs=10, callbacks=callbacks)\n",
        "model = keras.models.load_model(\"embeddings_bidir_gru_with_masking.keras\")\n",
        "print(f\"Test acc: {model.evaluate(int_test_ds)[1]:.3f}\")"
      ]
    },
    {
      "cell_type": "markdown",
      "metadata": {
        "id": "y9Vhl2mCCvZO"
      },
      "source": [
        "#### Using pretrained word embeddings"
      ]
    },
    {
      "cell_type": "code",
      "execution_count": 9,
      "metadata": {
        "colab": {
          "base_uri": "https://localhost:8080/"
        },
        "id": "uvd2Fd27CvZO",
        "outputId": "b6a9b2ff-57aa-4774-e947-6b03f929d6a4"
      },
      "outputs": [
        {
          "output_type": "stream",
          "name": "stdout",
          "text": [
            "--2023-04-22 22:36:35--  http://nlp.stanford.edu/data/glove.6B.zip\n",
            "Resolving nlp.stanford.edu (nlp.stanford.edu)... 171.64.67.140\n",
            "Connecting to nlp.stanford.edu (nlp.stanford.edu)|171.64.67.140|:80... connected.\n",
            "HTTP request sent, awaiting response... 302 Found\n",
            "Location: https://nlp.stanford.edu/data/glove.6B.zip [following]\n",
            "--2023-04-22 22:36:35--  https://nlp.stanford.edu/data/glove.6B.zip\n",
            "Connecting to nlp.stanford.edu (nlp.stanford.edu)|171.64.67.140|:443... connected.\n",
            "HTTP request sent, awaiting response... 301 Moved Permanently\n",
            "Location: https://downloads.cs.stanford.edu/nlp/data/glove.6B.zip [following]\n",
            "--2023-04-22 22:36:35--  https://downloads.cs.stanford.edu/nlp/data/glove.6B.zip\n",
            "Resolving downloads.cs.stanford.edu (downloads.cs.stanford.edu)... 171.64.64.22\n",
            "Connecting to downloads.cs.stanford.edu (downloads.cs.stanford.edu)|171.64.64.22|:443... connected.\n",
            "HTTP request sent, awaiting response... 200 OK\n",
            "Length: 862182613 (822M) [application/zip]\n",
            "Saving to: ‘glove.6B.zip’\n",
            "\n",
            "glove.6B.zip        100%[===================>] 822.24M  5.07MB/s    in 2m 39s  \n",
            "\n",
            "2023-04-22 22:39:15 (5.16 MB/s) - ‘glove.6B.zip’ saved [862182613/862182613]\n",
            "\n"
          ]
        }
      ],
      "source": [
        "!wget http://nlp.stanford.edu/data/glove.6B.zip\n",
        "!unzip -q glove.6B.zip"
      ]
    },
    {
      "cell_type": "markdown",
      "metadata": {
        "id": "6gETLLbSCvZP"
      },
      "source": [
        "**Parsing the GloVe word-embeddings file**"
      ]
    },
    {
      "cell_type": "code",
      "execution_count": 10,
      "metadata": {
        "colab": {
          "base_uri": "https://localhost:8080/"
        },
        "id": "VDPjsXGXCvZP",
        "outputId": "c9974b97-814e-4e40-fdc8-5eb3225e9ea1"
      },
      "outputs": [
        {
          "output_type": "stream",
          "name": "stdout",
          "text": [
            "Found 400000 word vectors.\n"
          ]
        }
      ],
      "source": [
        "import numpy as np\n",
        "path_to_glove_file = \"glove.6B.100d.txt\"\n",
        "\n",
        "embeddings_index = {}\n",
        "with open(path_to_glove_file) as f:\n",
        "    for line in f:\n",
        "        word, coefs = line.split(maxsplit=1)\n",
        "        coefs = np.fromstring(coefs, \"f\", sep=\" \")\n",
        "        embeddings_index[word] = coefs\n",
        "\n",
        "print(f\"Found {len(embeddings_index)} word vectors.\")"
      ]
    },
    {
      "cell_type": "markdown",
      "metadata": {
        "id": "H8nZZsYjCvZP"
      },
      "source": [
        "**Preparing the GloVe word-embeddings matrix**"
      ]
    },
    {
      "cell_type": "code",
      "execution_count": 11,
      "metadata": {
        "id": "6xq6ak-JCvZP"
      },
      "outputs": [],
      "source": [
        "embedding_dim = 100\n",
        "\n",
        "vocabulary = text_vectorization.get_vocabulary()\n",
        "word_index = dict(zip(vocabulary, range(len(vocabulary))))\n",
        "\n",
        "embedding_matrix = np.zeros((max_tokens, embedding_dim))\n",
        "for word, i in word_index.items():\n",
        "    if i < max_tokens:\n",
        "        embedding_vector = embeddings_index.get(word)\n",
        "    if embedding_vector is not None:\n",
        "        embedding_matrix[i] = embedding_vector"
      ]
    },
    {
      "cell_type": "code",
      "execution_count": 12,
      "metadata": {
        "id": "NRM_WP2vCvZP"
      },
      "outputs": [],
      "source": [
        "embedding_layer = layers.Embedding(\n",
        "    max_tokens,\n",
        "    embedding_dim,\n",
        "    embeddings_initializer=keras.initializers.Constant(embedding_matrix),\n",
        "    trainable=False,\n",
        "    mask_zero=True,\n",
        ")"
      ]
    },
    {
      "cell_type": "markdown",
      "metadata": {
        "id": "L5-_yvXfCvZP"
      },
      "source": [
        "**Model that uses a pretrained Embedding layer**"
      ]
    },
    {
      "cell_type": "code",
      "execution_count": 13,
      "metadata": {
        "colab": {
          "base_uri": "https://localhost:8080/"
        },
        "id": "aNy1R2kaCvZP",
        "outputId": "56c0c1cd-b73f-40ea-a521-03effa106bd4"
      },
      "outputs": [
        {
          "output_type": "stream",
          "name": "stdout",
          "text": [
            "Model: \"model_3\"\n",
            "_________________________________________________________________\n",
            " Layer (type)                Output Shape              Param #   \n",
            "=================================================================\n",
            " input_4 (InputLayer)        [(None, None)]            0         \n",
            "                                                                 \n",
            " embedding_3 (Embedding)     (None, None, 100)         2000000   \n",
            "                                                                 \n",
            " bidirectional_3 (Bidirectio  (None, 64)               34048     \n",
            " nal)                                                            \n",
            "                                                                 \n",
            " dropout_3 (Dropout)         (None, 64)                0         \n",
            "                                                                 \n",
            " dense_3 (Dense)             (None, 1)                 65        \n",
            "                                                                 \n",
            "=================================================================\n",
            "Total params: 2,034,113\n",
            "Trainable params: 34,113\n",
            "Non-trainable params: 2,000,000\n",
            "_________________________________________________________________\n",
            "Epoch 1/10\n",
            "625/625 [==============================] - 38s 48ms/step - loss: 0.5652 - accuracy: 0.7045 - val_loss: 0.5068 - val_accuracy: 0.7532\n",
            "Epoch 2/10\n",
            "625/625 [==============================] - 27s 43ms/step - loss: 0.4569 - accuracy: 0.7879 - val_loss: 0.4394 - val_accuracy: 0.7932\n",
            "Epoch 3/10\n",
            "625/625 [==============================] - 27s 43ms/step - loss: 0.4015 - accuracy: 0.8238 - val_loss: 0.3669 - val_accuracy: 0.8382\n",
            "Epoch 4/10\n",
            "625/625 [==============================] - 27s 43ms/step - loss: 0.3720 - accuracy: 0.8367 - val_loss: 0.3633 - val_accuracy: 0.8442\n",
            "Epoch 5/10\n",
            "625/625 [==============================] - 27s 43ms/step - loss: 0.3475 - accuracy: 0.8522 - val_loss: 0.3350 - val_accuracy: 0.8544\n",
            "Epoch 6/10\n",
            "625/625 [==============================] - 26s 42ms/step - loss: 0.3256 - accuracy: 0.8630 - val_loss: 0.3329 - val_accuracy: 0.8552\n",
            "Epoch 7/10\n",
            "625/625 [==============================] - 24s 39ms/step - loss: 0.3072 - accuracy: 0.8723 - val_loss: 0.3332 - val_accuracy: 0.8556\n",
            "Epoch 8/10\n",
            "625/625 [==============================] - 26s 42ms/step - loss: 0.2892 - accuracy: 0.8805 - val_loss: 0.3169 - val_accuracy: 0.8712\n",
            "Epoch 9/10\n",
            "625/625 [==============================] - 26s 41ms/step - loss: 0.2746 - accuracy: 0.8896 - val_loss: 0.3125 - val_accuracy: 0.8724\n",
            "Epoch 10/10\n",
            "625/625 [==============================] - 25s 40ms/step - loss: 0.2603 - accuracy: 0.8937 - val_loss: 0.3424 - val_accuracy: 0.8618\n",
            "782/782 [==============================] - 14s 15ms/step - loss: 0.2957 - accuracy: 0.8733\n",
            "Test acc: 0.873\n"
          ]
        }
      ],
      "source": [
        "inputs = keras.Input(shape=(None,), dtype=\"int64\")\n",
        "embedded = embedding_layer(inputs)\n",
        "x = layers.Bidirectional(layers.LSTM(32))(embedded)\n",
        "x = layers.Dropout(0.5)(x)\n",
        "outputs = layers.Dense(1, activation=\"sigmoid\")(x)\n",
        "model = keras.Model(inputs, outputs)\n",
        "model.compile(optimizer=\"rmsprop\",\n",
        "              loss=\"binary_crossentropy\",\n",
        "              metrics=[\"accuracy\"])\n",
        "model.summary()\n",
        "\n",
        "callbacks = [\n",
        "    keras.callbacks.ModelCheckpoint(\"glove_embeddings_sequence_model.keras\",\n",
        "                                    save_best_only=True)\n",
        "]\n",
        "model.fit(int_train_ds, validation_data=int_val_ds, epochs=10, callbacks=callbacks)\n",
        "model = keras.models.load_model(\"glove_embeddings_sequence_model.keras\")\n",
        "print(f\"Test acc: {model.evaluate(int_test_ds)[1]:.3f}\")"
      ]
    }
  ],
  "metadata": {
    "colab": {
      "provenance": [],
      "toc_visible": true
    },
    "kernelspec": {
      "display_name": "Python 3",
      "language": "python",
      "name": "python3"
    },
    "language_info": {
      "codemirror_mode": {
        "name": "ipython",
        "version": 3
      },
      "file_extension": ".py",
      "mimetype": "text/x-python",
      "name": "python",
      "nbconvert_exporter": "python",
      "pygments_lexer": "ipython3",
      "version": "3.7.0"
    },
    "accelerator": "GPU",
    "gpuClass": "premium"
  },
  "nbformat": 4,
  "nbformat_minor": 0
}
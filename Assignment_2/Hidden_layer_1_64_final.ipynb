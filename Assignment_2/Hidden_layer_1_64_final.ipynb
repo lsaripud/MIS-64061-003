{
  "cells": [
    {
      "cell_type": "markdown",
      "metadata": {
        "id": "o1zujIilwqFm"
      },
      "source": [
        "This is a companion notebook for the book [Deep Learning with Python, Second Edition](https://www.manning.com/books/deep-learning-with-python-second-edition?a_aid=keras&a_bid=76564dff). For readability, it only contains runnable code blocks and section titles, and omits everything else in the book: text paragraphs, figures, and pseudocode.\n",
        "\n",
        "**If you want to be able to follow what's going on, I recommend reading the notebook side by side with your copy of the book.**\n",
        "\n",
        "This notebook was generated for TensorFlow 2.6."
      ]
    },
    {
      "cell_type": "markdown",
      "metadata": {
        "id": "JJT5BJ0TwqFp"
      },
      "source": [
        "# Getting started with neural networks: Classification and regression"
      ]
    },
    {
      "cell_type": "markdown",
      "metadata": {
        "id": "ca9XO6VVwqFq"
      },
      "source": [
        "## Classifying movie reviews: A binary classification example"
      ]
    },
    {
      "cell_type": "markdown",
      "metadata": {
        "id": "vCfCUx6TwqFq"
      },
      "source": [
        "### The IMDB dataset"
      ]
    },
    {
      "cell_type": "markdown",
      "metadata": {
        "id": "V5uNY56lwqFq"
      },
      "source": [
        "**Loading the IMDB dataset**"
      ]
    },
    {
      "cell_type": "code",
      "execution_count": 4,
      "metadata": {
        "id": "JPaKI_ZxwqFq"
      },
      "outputs": [],
      "source": [
        "from tensorflow.keras.datasets import imdb\n",
        "(train_data, train_labels), (test_data, test_labels) = imdb.load_data(\n",
        "    num_words=10000)"
      ]
    },
    {
      "cell_type": "code",
      "execution_count": 5,
      "metadata": {
        "id": "atHKwtVlwqFr",
        "colab": {
          "base_uri": "https://localhost:8080/"
        },
        "outputId": "f992ff39-437b-43e7-e6a9-acf25c53df73"
      },
      "outputs": [
        {
          "output_type": "execute_result",
          "data": {
            "text/plain": [
              "[1,\n",
              " 14,\n",
              " 22,\n",
              " 16,\n",
              " 43,\n",
              " 530,\n",
              " 973,\n",
              " 1622,\n",
              " 1385,\n",
              " 65,\n",
              " 458,\n",
              " 4468,\n",
              " 66,\n",
              " 3941,\n",
              " 4,\n",
              " 173,\n",
              " 36,\n",
              " 256,\n",
              " 5,\n",
              " 25,\n",
              " 100,\n",
              " 43,\n",
              " 838,\n",
              " 112,\n",
              " 50,\n",
              " 670,\n",
              " 2,\n",
              " 9,\n",
              " 35,\n",
              " 480,\n",
              " 284,\n",
              " 5,\n",
              " 150,\n",
              " 4,\n",
              " 172,\n",
              " 112,\n",
              " 167,\n",
              " 2,\n",
              " 336,\n",
              " 385,\n",
              " 39,\n",
              " 4,\n",
              " 172,\n",
              " 4536,\n",
              " 1111,\n",
              " 17,\n",
              " 546,\n",
              " 38,\n",
              " 13,\n",
              " 447,\n",
              " 4,\n",
              " 192,\n",
              " 50,\n",
              " 16,\n",
              " 6,\n",
              " 147,\n",
              " 2025,\n",
              " 19,\n",
              " 14,\n",
              " 22,\n",
              " 4,\n",
              " 1920,\n",
              " 4613,\n",
              " 469,\n",
              " 4,\n",
              " 22,\n",
              " 71,\n",
              " 87,\n",
              " 12,\n",
              " 16,\n",
              " 43,\n",
              " 530,\n",
              " 38,\n",
              " 76,\n",
              " 15,\n",
              " 13,\n",
              " 1247,\n",
              " 4,\n",
              " 22,\n",
              " 17,\n",
              " 515,\n",
              " 17,\n",
              " 12,\n",
              " 16,\n",
              " 626,\n",
              " 18,\n",
              " 2,\n",
              " 5,\n",
              " 62,\n",
              " 386,\n",
              " 12,\n",
              " 8,\n",
              " 316,\n",
              " 8,\n",
              " 106,\n",
              " 5,\n",
              " 4,\n",
              " 2223,\n",
              " 5244,\n",
              " 16,\n",
              " 480,\n",
              " 66,\n",
              " 3785,\n",
              " 33,\n",
              " 4,\n",
              " 130,\n",
              " 12,\n",
              " 16,\n",
              " 38,\n",
              " 619,\n",
              " 5,\n",
              " 25,\n",
              " 124,\n",
              " 51,\n",
              " 36,\n",
              " 135,\n",
              " 48,\n",
              " 25,\n",
              " 1415,\n",
              " 33,\n",
              " 6,\n",
              " 22,\n",
              " 12,\n",
              " 215,\n",
              " 28,\n",
              " 77,\n",
              " 52,\n",
              " 5,\n",
              " 14,\n",
              " 407,\n",
              " 16,\n",
              " 82,\n",
              " 2,\n",
              " 8,\n",
              " 4,\n",
              " 107,\n",
              " 117,\n",
              " 5952,\n",
              " 15,\n",
              " 256,\n",
              " 4,\n",
              " 2,\n",
              " 7,\n",
              " 3766,\n",
              " 5,\n",
              " 723,\n",
              " 36,\n",
              " 71,\n",
              " 43,\n",
              " 530,\n",
              " 476,\n",
              " 26,\n",
              " 400,\n",
              " 317,\n",
              " 46,\n",
              " 7,\n",
              " 4,\n",
              " 2,\n",
              " 1029,\n",
              " 13,\n",
              " 104,\n",
              " 88,\n",
              " 4,\n",
              " 381,\n",
              " 15,\n",
              " 297,\n",
              " 98,\n",
              " 32,\n",
              " 2071,\n",
              " 56,\n",
              " 26,\n",
              " 141,\n",
              " 6,\n",
              " 194,\n",
              " 7486,\n",
              " 18,\n",
              " 4,\n",
              " 226,\n",
              " 22,\n",
              " 21,\n",
              " 134,\n",
              " 476,\n",
              " 26,\n",
              " 480,\n",
              " 5,\n",
              " 144,\n",
              " 30,\n",
              " 5535,\n",
              " 18,\n",
              " 51,\n",
              " 36,\n",
              " 28,\n",
              " 224,\n",
              " 92,\n",
              " 25,\n",
              " 104,\n",
              " 4,\n",
              " 226,\n",
              " 65,\n",
              " 16,\n",
              " 38,\n",
              " 1334,\n",
              " 88,\n",
              " 12,\n",
              " 16,\n",
              " 283,\n",
              " 5,\n",
              " 16,\n",
              " 4472,\n",
              " 113,\n",
              " 103,\n",
              " 32,\n",
              " 15,\n",
              " 16,\n",
              " 5345,\n",
              " 19,\n",
              " 178,\n",
              " 32]"
            ]
          },
          "metadata": {},
          "execution_count": 5
        }
      ],
      "source": [
        "train_data[0]"
      ]
    },
    {
      "cell_type": "code",
      "execution_count": 6,
      "metadata": {
        "id": "IhhpY3X9wqFr",
        "colab": {
          "base_uri": "https://localhost:8080/"
        },
        "outputId": "cc64539a-c366-4baa-f852-9827cb7cedac"
      },
      "outputs": [
        {
          "output_type": "execute_result",
          "data": {
            "text/plain": [
              "1"
            ]
          },
          "metadata": {},
          "execution_count": 6
        }
      ],
      "source": [
        "train_labels[0]"
      ]
    },
    {
      "cell_type": "code",
      "execution_count": 7,
      "metadata": {
        "id": "UUtGrub4wqFs",
        "colab": {
          "base_uri": "https://localhost:8080/"
        },
        "outputId": "da1c15c9-b9d6-4a85-ae07-ab771c9509a3"
      },
      "outputs": [
        {
          "output_type": "execute_result",
          "data": {
            "text/plain": [
              "9999"
            ]
          },
          "metadata": {},
          "execution_count": 7
        }
      ],
      "source": [
        "max([max(sequence) for sequence in train_data])"
      ]
    },
    {
      "cell_type": "markdown",
      "metadata": {
        "id": "x_5_jZ3-wqFs"
      },
      "source": [
        "**Decoding reviews back to text**"
      ]
    },
    {
      "cell_type": "code",
      "execution_count": 8,
      "metadata": {
        "id": "1QMVJ8MPwqFs"
      },
      "outputs": [],
      "source": [
        "word_index = imdb.get_word_index()\n",
        "reverse_word_index = dict(\n",
        "    [(value, key) for (key, value) in word_index.items()])\n",
        "decoded_review = \" \".join(\n",
        "    [reverse_word_index.get(i - 3, \"?\") for i in train_data[0]])"
      ]
    },
    {
      "cell_type": "markdown",
      "metadata": {
        "id": "gGpZdnfrwqFs"
      },
      "source": [
        "### Preparing the data"
      ]
    },
    {
      "cell_type": "markdown",
      "metadata": {
        "id": "FYNcfMYXwqFt"
      },
      "source": [
        "**Encoding the integer sequences via multi-hot encoding**"
      ]
    },
    {
      "cell_type": "code",
      "execution_count": 9,
      "metadata": {
        "id": "KlmtYLQCwqFt"
      },
      "outputs": [],
      "source": [
        "import numpy as np\n",
        "def vectorize_sequences(sequences, dimension=10000):\n",
        "    results = np.zeros((len(sequences), dimension))\n",
        "    for i, sequence in enumerate(sequences):\n",
        "        for j in sequence:\n",
        "            results[i, j] = 1.\n",
        "    return results\n",
        "x_train = vectorize_sequences(train_data)\n",
        "x_test = vectorize_sequences(test_data)"
      ]
    },
    {
      "cell_type": "code",
      "execution_count": 10,
      "metadata": {
        "id": "_NHi5o-wwqFt",
        "colab": {
          "base_uri": "https://localhost:8080/"
        },
        "outputId": "94d2d69d-7a54-4e99-ac73-c4741fc0e607"
      },
      "outputs": [
        {
          "output_type": "execute_result",
          "data": {
            "text/plain": [
              "array([0., 1., 1., ..., 0., 0., 0.])"
            ]
          },
          "metadata": {},
          "execution_count": 10
        }
      ],
      "source": [
        "x_train[0]"
      ]
    },
    {
      "cell_type": "code",
      "execution_count": 11,
      "metadata": {
        "id": "nBfOIixgwqFt"
      },
      "outputs": [],
      "source": [
        "y_train = np.asarray(train_labels).astype(\"float32\")\n",
        "y_test = np.asarray(test_labels).astype(\"float32\")"
      ]
    },
    {
      "cell_type": "markdown",
      "metadata": {
        "id": "RbdAwRf9wqFt"
      },
      "source": [
        "### Building your model"
      ]
    },
    {
      "cell_type": "markdown",
      "metadata": {
        "id": "XXjXSFWUwqFt"
      },
      "source": [
        "**Model definition**"
      ]
    },
    {
      "cell_type": "code",
      "execution_count": 12,
      "metadata": {
        "id": "Jz6cEINDwqFt"
      },
      "outputs": [],
      "source": [
        "from tensorflow import keras\n",
        "from tensorflow.keras import layers\n",
        "from tensorflow.keras import regularizers\n",
        "from keras.layers import Dense\n",
        "from keras.layers import Dropout\n",
        "\n",
        "model = keras.Sequential([\n",
        "    layers.Dense(64, activation=\"tanh\", kernel_regularizer=regularizers.L2(0.001)),  \n",
        "    layers.Dropout(0.5),\n",
        "    layers.Dense(1, activation=\"sigmoid\", kernel_regularizer=regularizers.l1(0.001))\n",
        "])"
      ]
    },
    {
      "cell_type": "markdown",
      "metadata": {
        "id": "Ebx8pxDwwqFu"
      },
      "source": [
        "**Compiling the model**"
      ]
    },
    {
      "cell_type": "code",
      "execution_count": 13,
      "metadata": {
        "id": "45_KTroEwqFu"
      },
      "outputs": [],
      "source": [
        "model.compile(optimizer=\"adam\",\n",
        "              loss=\"mse\",\n",
        "              metrics=[\"accuracy\"])"
      ]
    },
    {
      "cell_type": "markdown",
      "metadata": {
        "id": "dpU5Ay80wqFu"
      },
      "source": [
        "### Validating your approach"
      ]
    },
    {
      "cell_type": "markdown",
      "metadata": {
        "id": "8l9hO_LawqFu"
      },
      "source": [
        "**Setting aside a validation set**"
      ]
    },
    {
      "cell_type": "code",
      "execution_count": 14,
      "metadata": {
        "id": "uGsMYO-iwqFu"
      },
      "outputs": [],
      "source": [
        "x_val = x_train[:10000]\n",
        "partial_x_train = x_train[10000:]\n",
        "y_val = y_train[:10000]\n",
        "partial_y_train = y_train[10000:]"
      ]
    },
    {
      "cell_type": "markdown",
      "metadata": {
        "id": "Ynyr5QtvwqFu"
      },
      "source": [
        "**Training your model**"
      ]
    },
    {
      "cell_type": "code",
      "execution_count": 15,
      "metadata": {
        "id": "QYzrbEINwqFu",
        "colab": {
          "base_uri": "https://localhost:8080/"
        },
        "outputId": "c77aadea-0c9b-43d7-fc72-b041f16fe077"
      },
      "outputs": [
        {
          "output_type": "stream",
          "name": "stdout",
          "text": [
            "Epoch 1/20\n",
            "30/30 [==============================] - 4s 111ms/step - loss: 0.2425 - accuracy: 0.8044 - val_loss: 0.1694 - val_accuracy: 0.8720\n",
            "Epoch 2/20\n",
            "30/30 [==============================] - 5s 155ms/step - loss: 0.1415 - accuracy: 0.9059 - val_loss: 0.1433 - val_accuracy: 0.8853\n",
            "Epoch 3/20\n",
            "30/30 [==============================] - 2s 79ms/step - loss: 0.1197 - accuracy: 0.9240 - val_loss: 0.1362 - val_accuracy: 0.8850\n",
            "Epoch 4/20\n",
            "30/30 [==============================] - 2s 75ms/step - loss: 0.1111 - accuracy: 0.9318 - val_loss: 0.1348 - val_accuracy: 0.8815\n",
            "Epoch 5/20\n",
            "30/30 [==============================] - 2s 70ms/step - loss: 0.1068 - accuracy: 0.9380 - val_loss: 0.1336 - val_accuracy: 0.8828\n",
            "Epoch 6/20\n",
            "30/30 [==============================] - 2s 69ms/step - loss: 0.1044 - accuracy: 0.9385 - val_loss: 0.1341 - val_accuracy: 0.8819\n",
            "Epoch 7/20\n",
            "30/30 [==============================] - 2s 75ms/step - loss: 0.1024 - accuracy: 0.9436 - val_loss: 0.1336 - val_accuracy: 0.8828\n",
            "Epoch 8/20\n",
            "30/30 [==============================] - 4s 133ms/step - loss: 0.1017 - accuracy: 0.9441 - val_loss: 0.1348 - val_accuracy: 0.8819\n",
            "Epoch 9/20\n",
            "30/30 [==============================] - 2s 75ms/step - loss: 0.1010 - accuracy: 0.9467 - val_loss: 0.1344 - val_accuracy: 0.8818\n",
            "Epoch 10/20\n",
            "30/30 [==============================] - 2s 69ms/step - loss: 0.0997 - accuracy: 0.9471 - val_loss: 0.1354 - val_accuracy: 0.8780\n",
            "Epoch 11/20\n",
            "30/30 [==============================] - 2s 76ms/step - loss: 0.0995 - accuracy: 0.9476 - val_loss: 0.1366 - val_accuracy: 0.8814\n",
            "Epoch 12/20\n",
            "30/30 [==============================] - 2s 76ms/step - loss: 0.0987 - accuracy: 0.9499 - val_loss: 0.1356 - val_accuracy: 0.8796\n",
            "Epoch 13/20\n",
            "30/30 [==============================] - 3s 112ms/step - loss: 0.0981 - accuracy: 0.9521 - val_loss: 0.1350 - val_accuracy: 0.8788\n",
            "Epoch 14/20\n",
            "30/30 [==============================] - 4s 123ms/step - loss: 0.0984 - accuracy: 0.9494 - val_loss: 0.1397 - val_accuracy: 0.8726\n",
            "Epoch 15/20\n",
            "30/30 [==============================] - 2s 77ms/step - loss: 0.0974 - accuracy: 0.9517 - val_loss: 0.1365 - val_accuracy: 0.8796\n",
            "Epoch 16/20\n",
            "30/30 [==============================] - 2s 79ms/step - loss: 0.0964 - accuracy: 0.9532 - val_loss: 0.1369 - val_accuracy: 0.8758\n",
            "Epoch 17/20\n",
            "30/30 [==============================] - 2s 75ms/step - loss: 0.0955 - accuracy: 0.9545 - val_loss: 0.1369 - val_accuracy: 0.8778\n",
            "Epoch 18/20\n",
            "30/30 [==============================] - 3s 96ms/step - loss: 0.0950 - accuracy: 0.9563 - val_loss: 0.1367 - val_accuracy: 0.8771\n",
            "Epoch 19/20\n",
            "30/30 [==============================] - 3s 103ms/step - loss: 0.0957 - accuracy: 0.9531 - val_loss: 0.1370 - val_accuracy: 0.8808\n",
            "Epoch 20/20\n",
            "30/30 [==============================] - 2s 76ms/step - loss: 0.0951 - accuracy: 0.9549 - val_loss: 0.1376 - val_accuracy: 0.8799\n"
          ]
        }
      ],
      "source": [
        "history = model.fit(partial_x_train,\n",
        "                    partial_y_train,\n",
        "                    epochs=20,\n",
        "                    batch_size=512,\n",
        "                    validation_data=(x_val, y_val))"
      ]
    },
    {
      "cell_type": "code",
      "execution_count": 16,
      "metadata": {
        "id": "awGj0sGVwqFu",
        "colab": {
          "base_uri": "https://localhost:8080/"
        },
        "outputId": "a1d899df-cc34-4067-acd6-419fa1395882"
      },
      "outputs": [
        {
          "output_type": "execute_result",
          "data": {
            "text/plain": [
              "dict_keys(['loss', 'accuracy', 'val_loss', 'val_accuracy'])"
            ]
          },
          "metadata": {},
          "execution_count": 16
        }
      ],
      "source": [
        "history_dict = history.history\n",
        "history_dict.keys()"
      ]
    },
    {
      "cell_type": "markdown",
      "metadata": {
        "id": "9xQdnUZ0wqFv"
      },
      "source": [
        "**Plotting the training and validation loss**"
      ]
    },
    {
      "cell_type": "code",
      "execution_count": 17,
      "metadata": {
        "id": "7kn5opLywqFv",
        "colab": {
          "base_uri": "https://localhost:8080/",
          "height": 295
        },
        "outputId": "7cebf63b-af32-473d-f33f-6e1786e99ad9"
      },
      "outputs": [
        {
          "output_type": "display_data",
          "data": {
            "text/plain": [
              "<Figure size 432x288 with 1 Axes>"
            ],
            "image/png": "[encoded data removed]"
          },
          "metadata": {
            "needs_background": "light"
          }
        }
      ],
      "source": [
        "import matplotlib.pyplot as plt\n",
        "history_dict = history.history\n",
        "loss_values = history_dict[\"loss\"]\n",
        "val_loss_values = history_dict[\"val_loss\"]\n",
        "epochs = range(1, len(loss_values) + 1)\n",
        "plt.plot(epochs, loss_values, \"bo\", label=\"Training loss\")\n",
        "plt.plot(epochs, val_loss_values, \"b\", label=\"Validation loss\")\n",
        "plt.title(\"Training and validation loss\")\n",
        "plt.xlabel(\"Epochs\")\n",
        "plt.ylabel(\"Loss\")\n",
        "plt.legend()\n",
        "plt.show()"
      ]
    },
    {
      "cell_type": "markdown",
      "metadata": {
        "id": "6SuuK8MiwqFv"
      },
      "source": [
        "**Plotting the training and validation accuracy**"
      ]
    },
    {
      "cell_type": "code",
      "execution_count": 18,
      "metadata": {
        "id": "gOVBgFsLwqFv",
        "colab": {
          "base_uri": "https://localhost:8080/",
          "height": 295
        },
        "outputId": "45142474-4f1e-4c5c-d3f4-d88fa8e9a536"
      },
      "outputs": [
        {
          "output_type": "display_data",
          "data": {
            "text/plain": [
              "<Figure size 432x288 with 1 Axes>"
            ],
            "image/png": "[encoded data removed]"
          },
          "metadata": {
            "needs_background": "light"
          }
        }
      ],
      "source": [
        "plt.clf()\n",
        "acc = history_dict[\"accuracy\"]\n",
        "val_acc = history_dict[\"val_accuracy\"]\n",
        "plt.plot(epochs, acc, \"bo\", label=\"Training acc\")\n",
        "plt.plot(epochs, val_acc, \"b\", label=\"Validation acc\")\n",
        "plt.title(\"Training and validation accuracy\")\n",
        "plt.xlabel(\"Epochs\")\n",
        "plt.ylabel(\"Accuracy\")\n",
        "plt.legend()\n",
        "plt.show()"
      ]
    },
    {
      "cell_type": "markdown",
      "metadata": {
        "id": "tNMqvU5kwqFv"
      },
      "source": [
        "**Retraining a model from scratch**"
      ]
    },
    {
      "cell_type": "code",
      "execution_count": 19,
      "metadata": {
        "id": "MouG6ZVswqFv",
        "colab": {
          "base_uri": "https://localhost:8080/"
        },
        "outputId": "d7f65e5d-9280-4659-999b-617244082d6e"
      },
      "outputs": [
        {
          "output_type": "stream",
          "name": "stdout",
          "text": [
            "Epoch 1/4\n",
            "49/49 [==============================] - 6s 87ms/step - loss: 0.2121 - accuracy: 0.8363\n",
            "Epoch 2/4\n",
            "49/49 [==============================] - 3s 52ms/step - loss: 0.1307 - accuracy: 0.9069\n",
            "Epoch 3/4\n",
            "49/49 [==============================] - 3s 53ms/step - loss: 0.1183 - accuracy: 0.9165\n",
            "Epoch 4/4\n",
            "49/49 [==============================] - 3s 54ms/step - loss: 0.1148 - accuracy: 0.9208\n",
            "782/782 [==============================] - 5s 6ms/step - loss: 0.1337 - accuracy: 0.8857\n"
          ]
        }
      ],
      "source": [
        "model = keras.Sequential([\n",
        "   layers.Dense(64, activation=\"tanh\", kernel_regularizer=regularizers.l2(0.001)),\n",
        "   layers.Dropout(0.5),\n",
        "   layers.Dense(1, activation=\"sigmoid\", kernel_regularizer=regularizers.l1(0.001))\n",
        "])\n",
        "model.compile(optimizer=\"adam\",\n",
        "              loss=\"mse\",\n",
        "              metrics=[\"accuracy\"])\n",
        "model.fit(x_train, y_train, epochs=4, batch_size=512)\n",
        "results = model.evaluate(x_test, y_test)"
      ]
    },
    {
      "cell_type": "code",
      "execution_count": 20,
      "metadata": {
        "id": "2AB63VtjwqFv",
        "colab": {
          "base_uri": "https://localhost:8080/"
        },
        "outputId": "f495a5af-2068-46e8-e2f9-a397aa401d49"
      },
      "outputs": [
        {
          "output_type": "execute_result",
          "data": {
            "text/plain": [
              "[0.13365232944488525, 0.8856800198554993]"
            ]
          },
          "metadata": {},
          "execution_count": 20
        }
      ],
      "source": [
        "results"
      ]
    },
    {
      "cell_type": "markdown",
      "metadata": {
        "id": "reXSlCy9wqFv"
      },
      "source": [
        "### Using a trained model to generate predictions on new data"
      ]
    },
    {
      "cell_type": "code",
      "execution_count": 21,
      "metadata": {
        "id": "1MB1VoCLwqFv",
        "colab": {
          "base_uri": "https://localhost:8080/"
        },
        "outputId": "82d3fe3d-2a12-4c9f-c46f-ee4380c0ef36"
      },
      "outputs": [
        {
          "output_type": "stream",
          "name": "stdout",
          "text": [
            "782/782 [==============================] - 3s 4ms/step\n"
          ]
        },
        {
          "output_type": "execute_result",
          "data": {
            "text/plain": [
              "array([[0.2279075 ],\n",
              "       [0.99732864],\n",
              "       [0.73298216],\n",
              "       ...,\n",
              "       [0.22262968],\n",
              "       [0.11249104],\n",
              "       [0.4874592 ]], dtype=float32)"
            ]
          },
          "metadata": {},
          "execution_count": 21
        }
      ],
      "source": [
        "model.predict(x_test)"
      ]
    }
  ],
  "metadata": {
    "colab": {
      "provenance": [],
      "toc_visible": true
    },
    "kernelspec": {
      "display_name": "Python 3",
      "language": "python",
      "name": "python3"
    },
    "language_info": {
      "codemirror_mode": {
        "name": "ipython",
        "version": 3
      },
      "file_extension": ".py",
      "mimetype": "text/x-python",
      "name": "python",
      "nbconvert_exporter": "python",
      "pygments_lexer": "ipython3",
      "version": "3.7.0"
    }
  },
  "nbformat": 4,
  "nbformat_minor": 0
}
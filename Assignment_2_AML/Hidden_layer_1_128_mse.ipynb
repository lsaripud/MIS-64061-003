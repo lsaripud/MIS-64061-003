{
  "cells": [
    {
      "cell_type": "markdown",
      "metadata": {
        "id": "o1zujIilwqFm"
      },
      "source": [
        "This is a companion notebook for the book [Deep Learning with Python, Second Edition](https://www.manning.com/books/deep-learning-with-python-second-edition?a_aid=keras&a_bid=76564dff). For readability, it only contains runnable code blocks and section titles, and omits everything else in the book: text paragraphs, figures, and pseudocode.\n",
        "\n",
        "**If you want to be able to follow what's going on, I recommend reading the notebook side by side with your copy of the book.**\n",
        "\n",
        "This notebook was generated for TensorFlow 2.6."
      ]
    },
    {
      "cell_type": "markdown",
      "metadata": {
        "id": "JJT5BJ0TwqFp"
      },
      "source": [
        "# Getting started with neural networks: Classification and regression"
      ]
    },
    {
      "cell_type": "markdown",
      "metadata": {
        "id": "ca9XO6VVwqFq"
      },
      "source": [
        "## Classifying movie reviews: A binary classification example"
      ]
    },
    {
      "cell_type": "markdown",
      "metadata": {
        "id": "vCfCUx6TwqFq"
      },
      "source": [
        "### The IMDB dataset"
      ]
    },
    {
      "cell_type": "markdown",
      "metadata": {
        "id": "V5uNY56lwqFq"
      },
      "source": [
        "**Loading the IMDB dataset**"
      ]
    },
    {
      "cell_type": "code",
      "execution_count": 2,
      "metadata": {
        "id": "JPaKI_ZxwqFq"
      },
      "outputs": [],
      "source": [
        "from tensorflow.keras.datasets import imdb\n",
        "(train_data, train_labels), (test_data, test_labels) = imdb.load_data(\n",
        "    num_words=10000)"
      ]
    },
    {
      "cell_type": "code",
      "execution_count": 3,
      "metadata": {
        "id": "atHKwtVlwqFr",
        "colab": {
          "base_uri": "https://localhost:8080/"
        },
        "outputId": "246d9362-581d-4e8b-9332-41f8b5de9aa8"
      },
      "outputs": [
        {
          "output_type": "execute_result",
          "data": {
            "text/plain": [
              "[1,\n",
              " 14,\n",
              " 22,\n",
              " 16,\n",
              " 43,\n",
              " 530,\n",
              " 973,\n",
              " 1622,\n",
              " 1385,\n",
              " 65,\n",
              " 458,\n",
              " 4468,\n",
              " 66,\n",
              " 3941,\n",
              " 4,\n",
              " 173,\n",
              " 36,\n",
              " 256,\n",
              " 5,\n",
              " 25,\n",
              " 100,\n",
              " 43,\n",
              " 838,\n",
              " 112,\n",
              " 50,\n",
              " 670,\n",
              " 2,\n",
              " 9,\n",
              " 35,\n",
              " 480,\n",
              " 284,\n",
              " 5,\n",
              " 150,\n",
              " 4,\n",
              " 172,\n",
              " 112,\n",
              " 167,\n",
              " 2,\n",
              " 336,\n",
              " 385,\n",
              " 39,\n",
              " 4,\n",
              " 172,\n",
              " 4536,\n",
              " 1111,\n",
              " 17,\n",
              " 546,\n",
              " 38,\n",
              " 13,\n",
              " 447,\n",
              " 4,\n",
              " 192,\n",
              " 50,\n",
              " 16,\n",
              " 6,\n",
              " 147,\n",
              " 2025,\n",
              " 19,\n",
              " 14,\n",
              " 22,\n",
              " 4,\n",
              " 1920,\n",
              " 4613,\n",
              " 469,\n",
              " 4,\n",
              " 22,\n",
              " 71,\n",
              " 87,\n",
              " 12,\n",
              " 16,\n",
              " 43,\n",
              " 530,\n",
              " 38,\n",
              " 76,\n",
              " 15,\n",
              " 13,\n",
              " 1247,\n",
              " 4,\n",
              " 22,\n",
              " 17,\n",
              " 515,\n",
              " 17,\n",
              " 12,\n",
              " 16,\n",
              " 626,\n",
              " 18,\n",
              " 2,\n",
              " 5,\n",
              " 62,\n",
              " 386,\n",
              " 12,\n",
              " 8,\n",
              " 316,\n",
              " 8,\n",
              " 106,\n",
              " 5,\n",
              " 4,\n",
              " 2223,\n",
              " 5244,\n",
              " 16,\n",
              " 480,\n",
              " 66,\n",
              " 3785,\n",
              " 33,\n",
              " 4,\n",
              " 130,\n",
              " 12,\n",
              " 16,\n",
              " 38,\n",
              " 619,\n",
              " 5,\n",
              " 25,\n",
              " 124,\n",
              " 51,\n",
              " 36,\n",
              " 135,\n",
              " 48,\n",
              " 25,\n",
              " 1415,\n",
              " 33,\n",
              " 6,\n",
              " 22,\n",
              " 12,\n",
              " 215,\n",
              " 28,\n",
              " 77,\n",
              " 52,\n",
              " 5,\n",
              " 14,\n",
              " 407,\n",
              " 16,\n",
              " 82,\n",
              " 2,\n",
              " 8,\n",
              " 4,\n",
              " 107,\n",
              " 117,\n",
              " 5952,\n",
              " 15,\n",
              " 256,\n",
              " 4,\n",
              " 2,\n",
              " 7,\n",
              " 3766,\n",
              " 5,\n",
              " 723,\n",
              " 36,\n",
              " 71,\n",
              " 43,\n",
              " 530,\n",
              " 476,\n",
              " 26,\n",
              " 400,\n",
              " 317,\n",
              " 46,\n",
              " 7,\n",
              " 4,\n",
              " 2,\n",
              " 1029,\n",
              " 13,\n",
              " 104,\n",
              " 88,\n",
              " 4,\n",
              " 381,\n",
              " 15,\n",
              " 297,\n",
              " 98,\n",
              " 32,\n",
              " 2071,\n",
              " 56,\n",
              " 26,\n",
              " 141,\n",
              " 6,\n",
              " 194,\n",
              " 7486,\n",
              " 18,\n",
              " 4,\n",
              " 226,\n",
              " 22,\n",
              " 21,\n",
              " 134,\n",
              " 476,\n",
              " 26,\n",
              " 480,\n",
              " 5,\n",
              " 144,\n",
              " 30,\n",
              " 5535,\n",
              " 18,\n",
              " 51,\n",
              " 36,\n",
              " 28,\n",
              " 224,\n",
              " 92,\n",
              " 25,\n",
              " 104,\n",
              " 4,\n",
              " 226,\n",
              " 65,\n",
              " 16,\n",
              " 38,\n",
              " 1334,\n",
              " 88,\n",
              " 12,\n",
              " 16,\n",
              " 283,\n",
              " 5,\n",
              " 16,\n",
              " 4472,\n",
              " 113,\n",
              " 103,\n",
              " 32,\n",
              " 15,\n",
              " 16,\n",
              " 5345,\n",
              " 19,\n",
              " 178,\n",
              " 32]"
            ]
          },
          "metadata": {},
          "execution_count": 3
        }
      ],
      "source": [
        "train_data[0]"
      ]
    },
    {
      "cell_type": "code",
      "execution_count": 4,
      "metadata": {
        "id": "IhhpY3X9wqFr",
        "colab": {
          "base_uri": "https://localhost:8080/"
        },
        "outputId": "b2985446-1e6f-46dd-a852-e0649b2ff0dc"
      },
      "outputs": [
        {
          "output_type": "execute_result",
          "data": {
            "text/plain": [
              "1"
            ]
          },
          "metadata": {},
          "execution_count": 4
        }
      ],
      "source": [
        "train_labels[0]"
      ]
    },
    {
      "cell_type": "code",
      "execution_count": 5,
      "metadata": {
        "id": "UUtGrub4wqFs",
        "colab": {
          "base_uri": "https://localhost:8080/"
        },
        "outputId": "1a999663-49ae-4bbf-c029-0bc1c4c8f088"
      },
      "outputs": [
        {
          "output_type": "execute_result",
          "data": {
            "text/plain": [
              "9999"
            ]
          },
          "metadata": {},
          "execution_count": 5
        }
      ],
      "source": [
        "max([max(sequence) for sequence in train_data])"
      ]
    },
    {
      "cell_type": "markdown",
      "metadata": {
        "id": "x_5_jZ3-wqFs"
      },
      "source": [
        "**Decoding reviews back to text**"
      ]
    },
    {
      "cell_type": "code",
      "execution_count": 6,
      "metadata": {
        "id": "1QMVJ8MPwqFs"
      },
      "outputs": [],
      "source": [
        "word_index = imdb.get_word_index()\n",
        "reverse_word_index = dict(\n",
        "    [(value, key) for (key, value) in word_index.items()])\n",
        "decoded_review = \" \".join(\n",
        "    [reverse_word_index.get(i - 3, \"?\") for i in train_data[0]])"
      ]
    },
    {
      "cell_type": "markdown",
      "metadata": {
        "id": "gGpZdnfrwqFs"
      },
      "source": [
        "### Preparing the data"
      ]
    },
    {
      "cell_type": "markdown",
      "metadata": {
        "id": "FYNcfMYXwqFt"
      },
      "source": [
        "**Encoding the integer sequences via multi-hot encoding**"
      ]
    },
    {
      "cell_type": "code",
      "execution_count": 7,
      "metadata": {
        "id": "KlmtYLQCwqFt"
      },
      "outputs": [],
      "source": [
        "import numpy as np\n",
        "def vectorize_sequences(sequences, dimension=10000):\n",
        "    results = np.zeros((len(sequences), dimension))\n",
        "    for i, sequence in enumerate(sequences):\n",
        "        for j in sequence:\n",
        "            results[i, j] = 1.\n",
        "    return results\n",
        "x_train = vectorize_sequences(train_data)\n",
        "x_test = vectorize_sequences(test_data)"
      ]
    },
    {
      "cell_type": "code",
      "execution_count": 8,
      "metadata": {
        "id": "_NHi5o-wwqFt",
        "colab": {
          "base_uri": "https://localhost:8080/"
        },
        "outputId": "6e6e6034-817a-4f91-b216-c47bc0203bf9"
      },
      "outputs": [
        {
          "output_type": "execute_result",
          "data": {
            "text/plain": [
              "array([0., 1., 1., ..., 0., 0., 0.])"
            ]
          },
          "metadata": {},
          "execution_count": 8
        }
      ],
      "source": [
        "x_train[0]"
      ]
    },
    {
      "cell_type": "code",
      "execution_count": 9,
      "metadata": {
        "id": "nBfOIixgwqFt"
      },
      "outputs": [],
      "source": [
        "y_train = np.asarray(train_labels).astype(\"float32\")\n",
        "y_test = np.asarray(test_labels).astype(\"float32\")"
      ]
    },
    {
      "cell_type": "markdown",
      "metadata": {
        "id": "RbdAwRf9wqFt"
      },
      "source": [
        "### Building your model"
      ]
    },
    {
      "cell_type": "markdown",
      "metadata": {
        "id": "XXjXSFWUwqFt"
      },
      "source": [
        "**Model definition**"
      ]
    },
    {
      "cell_type": "code",
      "execution_count": 10,
      "metadata": {
        "id": "Jz6cEINDwqFt"
      },
      "outputs": [],
      "source": [
        "from tensorflow import keras\n",
        "from tensorflow.keras import layers\n",
        "\n",
        "model = keras.Sequential([\n",
        "    layers.Dense(128, activation=\"tanh\"),\n",
        "    layers.Dense(1, activation=\"sigmoid\")\n",
        "])"
      ]
    },
    {
      "cell_type": "markdown",
      "metadata": {
        "id": "Ebx8pxDwwqFu"
      },
      "source": [
        "**Compiling the model**"
      ]
    },
    {
      "cell_type": "code",
      "execution_count": 11,
      "metadata": {
        "id": "45_KTroEwqFu"
      },
      "outputs": [],
      "source": [
        "model.compile(optimizer=\"rmsprop\",\n",
        "              loss=\"mse\",\n",
        "              metrics=[\"accuracy\"])"
      ]
    },
    {
      "cell_type": "markdown",
      "metadata": {
        "id": "dpU5Ay80wqFu"
      },
      "source": [
        "### Validating your approach"
      ]
    },
    {
      "cell_type": "markdown",
      "metadata": {
        "id": "8l9hO_LawqFu"
      },
      "source": [
        "**Setting aside a validation set**"
      ]
    },
    {
      "cell_type": "code",
      "execution_count": 12,
      "metadata": {
        "id": "uGsMYO-iwqFu"
      },
      "outputs": [],
      "source": [
        "x_val = x_train[:10000]\n",
        "partial_x_train = x_train[10000:]\n",
        "y_val = y_train[:10000]\n",
        "partial_y_train = y_train[10000:]"
      ]
    },
    {
      "cell_type": "markdown",
      "metadata": {
        "id": "Ynyr5QtvwqFu"
      },
      "source": [
        "**Training your model**"
      ]
    },
    {
      "cell_type": "code",
      "execution_count": 13,
      "metadata": {
        "id": "QYzrbEINwqFu",
        "colab": {
          "base_uri": "https://localhost:8080/"
        },
        "outputId": "746acee4-ccc9-40b0-e5c0-8a3cd17e75fc"
      },
      "outputs": [
        {
          "output_type": "stream",
          "name": "stdout",
          "text": [
            "Epoch 1/20\n",
            "30/30 [==============================] - 7s 210ms/step - loss: 0.1670 - accuracy: 0.7563 - val_loss: 0.1118 - val_accuracy: 0.8638\n",
            "Epoch 2/20\n",
            "30/30 [==============================] - 3s 108ms/step - loss: 0.0970 - accuracy: 0.8812 - val_loss: 0.0925 - val_accuracy: 0.8823\n",
            "Epoch 3/20\n",
            "30/30 [==============================] - 4s 126ms/step - loss: 0.0823 - accuracy: 0.8960 - val_loss: 0.0961 - val_accuracy: 0.8711\n",
            "Epoch 4/20\n",
            "30/30 [==============================] - 4s 124ms/step - loss: 0.0709 - accuracy: 0.9085 - val_loss: 0.0914 - val_accuracy: 0.8758\n",
            "Epoch 5/20\n",
            "30/30 [==============================] - 4s 149ms/step - loss: 0.0617 - accuracy: 0.9245 - val_loss: 0.0831 - val_accuracy: 0.8866\n",
            "Epoch 6/20\n",
            "30/30 [==============================] - 4s 124ms/step - loss: 0.0565 - accuracy: 0.9303 - val_loss: 0.0844 - val_accuracy: 0.8839\n",
            "Epoch 7/20\n",
            "30/30 [==============================] - 4s 125ms/step - loss: 0.0519 - accuracy: 0.9361 - val_loss: 0.0867 - val_accuracy: 0.8813\n",
            "Epoch 8/20\n",
            "30/30 [==============================] - 5s 169ms/step - loss: 0.0481 - accuracy: 0.9407 - val_loss: 0.0891 - val_accuracy: 0.8794\n",
            "Epoch 9/20\n",
            "30/30 [==============================] - 3s 106ms/step - loss: 0.0420 - accuracy: 0.9513 - val_loss: 0.0904 - val_accuracy: 0.8785\n",
            "Epoch 10/20\n",
            "30/30 [==============================] - 4s 125ms/step - loss: 0.0432 - accuracy: 0.9473 - val_loss: 0.0879 - val_accuracy: 0.8787\n",
            "Epoch 11/20\n",
            "30/30 [==============================] - 5s 182ms/step - loss: 0.0371 - accuracy: 0.9566 - val_loss: 0.0895 - val_accuracy: 0.8789\n",
            "Epoch 12/20\n",
            "30/30 [==============================] - 4s 125ms/step - loss: 0.0383 - accuracy: 0.9532 - val_loss: 0.1024 - val_accuracy: 0.8650\n",
            "Epoch 13/20\n",
            "30/30 [==============================] - 4s 127ms/step - loss: 0.0329 - accuracy: 0.9617 - val_loss: 0.0904 - val_accuracy: 0.8763\n",
            "Epoch 14/20\n",
            "30/30 [==============================] - 4s 135ms/step - loss: 0.0314 - accuracy: 0.9639 - val_loss: 0.1031 - val_accuracy: 0.8659\n",
            "Epoch 15/20\n",
            "30/30 [==============================] - 6s 208ms/step - loss: 0.0300 - accuracy: 0.9660 - val_loss: 0.0988 - val_accuracy: 0.8727\n",
            "Epoch 16/20\n",
            "30/30 [==============================] - 6s 202ms/step - loss: 0.0274 - accuracy: 0.9695 - val_loss: 0.0943 - val_accuracy: 0.8774\n",
            "Epoch 17/20\n",
            "30/30 [==============================] - 4s 138ms/step - loss: 0.0265 - accuracy: 0.9699 - val_loss: 0.1267 - val_accuracy: 0.8426\n",
            "Epoch 18/20\n",
            "30/30 [==============================] - 4s 126ms/step - loss: 0.0256 - accuracy: 0.9711 - val_loss: 0.1085 - val_accuracy: 0.8619\n",
            "Epoch 19/20\n",
            "30/30 [==============================] - 4s 126ms/step - loss: 0.0230 - accuracy: 0.9757 - val_loss: 0.0972 - val_accuracy: 0.8757\n",
            "Epoch 20/20\n",
            "30/30 [==============================] - 5s 166ms/step - loss: 0.0214 - accuracy: 0.9775 - val_loss: 0.0981 - val_accuracy: 0.8745\n"
          ]
        }
      ],
      "source": [
        "history = model.fit(partial_x_train,\n",
        "                    partial_y_train,\n",
        "                    epochs=20,\n",
        "                    batch_size=512,\n",
        "                    validation_data=(x_val, y_val))"
      ]
    },
    {
      "cell_type": "code",
      "execution_count": 14,
      "metadata": {
        "id": "awGj0sGVwqFu",
        "colab": {
          "base_uri": "https://localhost:8080/"
        },
        "outputId": "75c5f69f-8d49-45aa-be52-1bf7ffa68a55"
      },
      "outputs": [
        {
          "output_type": "execute_result",
          "data": {
            "text/plain": [
              "dict_keys(['loss', 'accuracy', 'val_loss', 'val_accuracy'])"
            ]
          },
          "metadata": {},
          "execution_count": 14
        }
      ],
      "source": [
        "history_dict = history.history\n",
        "history_dict.keys()"
      ]
    },
    {
      "cell_type": "markdown",
      "metadata": {
        "id": "9xQdnUZ0wqFv"
      },
      "source": [
        "**Plotting the training and validation loss**"
      ]
    },
    {
      "cell_type": "code",
      "execution_count": 15,
      "metadata": {
        "id": "7kn5opLywqFv",
        "colab": {
          "base_uri": "https://localhost:8080/",
          "height": 295
        },
        "outputId": "11567c17-c745-4bab-973c-17c1469eaab3"
      },
      "outputs": [
        {
          "output_type": "display_data",
          "data": {
            "text/plain": [
              "<Figure size 432x288 with 1 Axes>"
            ],
            "image/png": "[encoded data removed]"
          },
          "metadata": {
            "needs_background": "light"
          }
        }
      ],
      "source": [
        "import matplotlib.pyplot as plt\n",
        "history_dict = history.history\n",
        "loss_values = history_dict[\"loss\"]\n",
        "val_loss_values = history_dict[\"val_loss\"]\n",
        "epochs = range(1, len(loss_values) + 1)\n",
        "plt.plot(epochs, loss_values, \"bo\", label=\"Training loss\")\n",
        "plt.plot(epochs, val_loss_values, \"b\", label=\"Validation loss\")\n",
        "plt.title(\"Training and validation loss\")\n",
        "plt.xlabel(\"Epochs\")\n",
        "plt.ylabel(\"Loss\")\n",
        "plt.legend()\n",
        "plt.show()"
      ]
    },
    {
      "cell_type": "markdown",
      "metadata": {
        "id": "6SuuK8MiwqFv"
      },
      "source": [
        "**Plotting the training and validation accuracy**"
      ]
    },
    {
      "cell_type": "code",
      "execution_count": 16,
      "metadata": {
        "id": "gOVBgFsLwqFv",
        "colab": {
          "base_uri": "https://localhost:8080/",
          "height": 295
        },
        "outputId": "e9e61a6c-8a92-4b22-c550-00ec2956b4be"
      },
      "outputs": [
        {
          "output_type": "display_data",
          "data": {
            "text/plain": [
              "<Figure size 432x288 with 1 Axes>"
            ],
            "image/png": "[encoded data removed]"
          },
          "metadata": {
            "needs_background": "light"
          }
        }
      ],
      "source": [
        "plt.clf()\n",
        "acc = history_dict[\"accuracy\"]\n",
        "val_acc = history_dict[\"val_accuracy\"]\n",
        "plt.plot(epochs, acc, \"bo\", label=\"Training acc\")\n",
        "plt.plot(epochs, val_acc, \"b\", label=\"Validation acc\")\n",
        "plt.title(\"Training and validation accuracy\")\n",
        "plt.xlabel(\"Epochs\")\n",
        "plt.ylabel(\"Accuracy\")\n",
        "plt.legend()\n",
        "plt.show()"
      ]
    },
    {
      "cell_type": "markdown",
      "metadata": {
        "id": "tNMqvU5kwqFv"
      },
      "source": [
        "**Retraining a model from scratch**"
      ]
    },
    {
      "cell_type": "code",
      "execution_count": 17,
      "metadata": {
        "id": "MouG6ZVswqFv",
        "colab": {
          "base_uri": "https://localhost:8080/"
        },
        "outputId": "30b2ac23-b55b-41b6-cb8f-57cd78ab0a70"
      },
      "outputs": [
        {
          "output_type": "stream",
          "name": "stdout",
          "text": [
            "Epoch 1/4\n",
            "49/49 [==============================] - 5s 82ms/step - loss: 0.1506 - accuracy: 0.7868\n",
            "Epoch 2/4\n",
            "49/49 [==============================] - 4s 80ms/step - loss: 0.0889 - accuracy: 0.8858\n",
            "Epoch 3/4\n",
            "49/49 [==============================] - 5s 108ms/step - loss: 0.0753 - accuracy: 0.9008\n",
            "Epoch 4/4\n",
            "49/49 [==============================] - 4s 79ms/step - loss: 0.0660 - accuracy: 0.9152\n",
            "782/782 [==============================] - 6s 7ms/step - loss: 0.0874 - accuracy: 0.8828\n"
          ]
        }
      ],
      "source": [
        "model = keras.Sequential([\n",
        "    layers.Dense(128, activation=\"tanh\"),\n",
        "    layers.Dense(1, activation=\"sigmoid\")\n",
        "])\n",
        "model.compile(optimizer=\"rmsprop\",\n",
        "              loss=\"mse\",\n",
        "              metrics=[\"accuracy\"])\n",
        "model.fit(x_train, y_train, epochs=4, batch_size=512)\n",
        "results = model.evaluate(x_test, y_test)"
      ]
    },
    {
      "cell_type": "code",
      "execution_count": 18,
      "metadata": {
        "id": "2AB63VtjwqFv",
        "colab": {
          "base_uri": "https://localhost:8080/"
        },
        "outputId": "42ea9ec2-aa93-4c9d-cc44-5485eafb9b38"
      },
      "outputs": [
        {
          "output_type": "execute_result",
          "data": {
            "text/plain": [
              "[0.08743998408317566, 0.8827999830245972]"
            ]
          },
          "metadata": {},
          "execution_count": 18
        }
      ],
      "source": [
        "results"
      ]
    },
    {
      "cell_type": "markdown",
      "metadata": {
        "id": "reXSlCy9wqFv"
      },
      "source": [
        "### Using a trained model to generate predictions on new data"
      ]
    },
    {
      "cell_type": "code",
      "execution_count": 19,
      "metadata": {
        "id": "1MB1VoCLwqFv",
        "colab": {
          "base_uri": "https://localhost:8080/"
        },
        "outputId": "80063342-2971-48d2-e31d-4d6bced130f3"
      },
      "outputs": [
        {
          "output_type": "stream",
          "name": "stdout",
          "text": [
            "782/782 [==============================] - 5s 6ms/step\n"
          ]
        },
        {
          "output_type": "execute_result",
          "data": {
            "text/plain": [
              "array([[0.1818205 ],\n",
              "       [0.99990565],\n",
              "       [0.95622873],\n",
              "       ...,\n",
              "       [0.21136925],\n",
              "       [0.10333477],\n",
              "       [0.6188105 ]], dtype=float32)"
            ]
          },
          "metadata": {},
          "execution_count": 19
        }
      ],
      "source": [
        "model.predict(x_test)"
      ]
    }
  ],
  "metadata": {
    "colab": {
      "provenance": [],
      "toc_visible": true
    },
    "kernelspec": {
      "display_name": "Python 3",
      "language": "python",
      "name": "python3"
    },
    "language_info": {
      "codemirror_mode": {
        "name": "ipython",
        "version": 3
      },
      "file_extension": ".py",
      "mimetype": "text/x-python",
      "name": "python",
      "nbconvert_exporter": "python",
      "pygments_lexer": "ipython3",
      "version": "3.7.0"
    }
  },
  "nbformat": 4,
  "nbformat_minor": 0
}
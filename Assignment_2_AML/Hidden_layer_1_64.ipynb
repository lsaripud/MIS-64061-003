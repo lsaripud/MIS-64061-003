{
  "cells": [
    {
      "cell_type": "markdown",
      "metadata": {
        "id": "o1zujIilwqFm"
      },
      "source": [
        "This is a companion notebook for the book [Deep Learning with Python, Second Edition](https://www.manning.com/books/deep-learning-with-python-second-edition?a_aid=keras&a_bid=76564dff). For readability, it only contains runnable code blocks and section titles, and omits everything else in the book: text paragraphs, figures, and pseudocode.\n",
        "\n",
        "**If you want to be able to follow what's going on, I recommend reading the notebook side by side with your copy of the book.**\n",
        "\n",
        "This notebook was generated for TensorFlow 2.6."
      ]
    },
    {
      "cell_type": "markdown",
      "metadata": {
        "id": "JJT5BJ0TwqFp"
      },
      "source": [
        "# Getting started with neural networks: Classification and regression"
      ]
    },
    {
      "cell_type": "markdown",
      "metadata": {
        "id": "ca9XO6VVwqFq"
      },
      "source": [
        "## Classifying movie reviews: A binary classification example"
      ]
    },
    {
      "cell_type": "markdown",
      "metadata": {
        "id": "vCfCUx6TwqFq"
      },
      "source": [
        "### The IMDB dataset"
      ]
    },
    {
      "cell_type": "markdown",
      "metadata": {
        "id": "V5uNY56lwqFq"
      },
      "source": [
        "**Loading the IMDB dataset**"
      ]
    },
    {
      "cell_type": "code",
      "execution_count": 19,
      "metadata": {
        "id": "JPaKI_ZxwqFq"
      },
      "outputs": [],
      "source": [
        "from tensorflow.keras.datasets import imdb\n",
        "(train_data, train_labels), (test_data, test_labels) = imdb.load_data(\n",
        "    num_words=10000)"
      ]
    },
    {
      "cell_type": "code",
      "execution_count": 20,
      "metadata": {
        "id": "atHKwtVlwqFr",
        "colab": {
          "base_uri": "https://localhost:8080/"
        },
        "outputId": "43536f59-186a-446c-8067-25faa1eb38ea"
      },
      "outputs": [
        {
          "output_type": "execute_result",
          "data": {
            "text/plain": [
              "[1,\n",
              " 14,\n",
              " 22,\n",
              " 16,\n",
              " 43,\n",
              " 530,\n",
              " 973,\n",
              " 1622,\n",
              " 1385,\n",
              " 65,\n",
              " 458,\n",
              " 4468,\n",
              " 66,\n",
              " 3941,\n",
              " 4,\n",
              " 173,\n",
              " 36,\n",
              " 256,\n",
              " 5,\n",
              " 25,\n",
              " 100,\n",
              " 43,\n",
              " 838,\n",
              " 112,\n",
              " 50,\n",
              " 670,\n",
              " 2,\n",
              " 9,\n",
              " 35,\n",
              " 480,\n",
              " 284,\n",
              " 5,\n",
              " 150,\n",
              " 4,\n",
              " 172,\n",
              " 112,\n",
              " 167,\n",
              " 2,\n",
              " 336,\n",
              " 385,\n",
              " 39,\n",
              " 4,\n",
              " 172,\n",
              " 4536,\n",
              " 1111,\n",
              " 17,\n",
              " 546,\n",
              " 38,\n",
              " 13,\n",
              " 447,\n",
              " 4,\n",
              " 192,\n",
              " 50,\n",
              " 16,\n",
              " 6,\n",
              " 147,\n",
              " 2025,\n",
              " 19,\n",
              " 14,\n",
              " 22,\n",
              " 4,\n",
              " 1920,\n",
              " 4613,\n",
              " 469,\n",
              " 4,\n",
              " 22,\n",
              " 71,\n",
              " 87,\n",
              " 12,\n",
              " 16,\n",
              " 43,\n",
              " 530,\n",
              " 38,\n",
              " 76,\n",
              " 15,\n",
              " 13,\n",
              " 1247,\n",
              " 4,\n",
              " 22,\n",
              " 17,\n",
              " 515,\n",
              " 17,\n",
              " 12,\n",
              " 16,\n",
              " 626,\n",
              " 18,\n",
              " 2,\n",
              " 5,\n",
              " 62,\n",
              " 386,\n",
              " 12,\n",
              " 8,\n",
              " 316,\n",
              " 8,\n",
              " 106,\n",
              " 5,\n",
              " 4,\n",
              " 2223,\n",
              " 5244,\n",
              " 16,\n",
              " 480,\n",
              " 66,\n",
              " 3785,\n",
              " 33,\n",
              " 4,\n",
              " 130,\n",
              " 12,\n",
              " 16,\n",
              " 38,\n",
              " 619,\n",
              " 5,\n",
              " 25,\n",
              " 124,\n",
              " 51,\n",
              " 36,\n",
              " 135,\n",
              " 48,\n",
              " 25,\n",
              " 1415,\n",
              " 33,\n",
              " 6,\n",
              " 22,\n",
              " 12,\n",
              " 215,\n",
              " 28,\n",
              " 77,\n",
              " 52,\n",
              " 5,\n",
              " 14,\n",
              " 407,\n",
              " 16,\n",
              " 82,\n",
              " 2,\n",
              " 8,\n",
              " 4,\n",
              " 107,\n",
              " 117,\n",
              " 5952,\n",
              " 15,\n",
              " 256,\n",
              " 4,\n",
              " 2,\n",
              " 7,\n",
              " 3766,\n",
              " 5,\n",
              " 723,\n",
              " 36,\n",
              " 71,\n",
              " 43,\n",
              " 530,\n",
              " 476,\n",
              " 26,\n",
              " 400,\n",
              " 317,\n",
              " 46,\n",
              " 7,\n",
              " 4,\n",
              " 2,\n",
              " 1029,\n",
              " 13,\n",
              " 104,\n",
              " 88,\n",
              " 4,\n",
              " 381,\n",
              " 15,\n",
              " 297,\n",
              " 98,\n",
              " 32,\n",
              " 2071,\n",
              " 56,\n",
              " 26,\n",
              " 141,\n",
              " 6,\n",
              " 194,\n",
              " 7486,\n",
              " 18,\n",
              " 4,\n",
              " 226,\n",
              " 22,\n",
              " 21,\n",
              " 134,\n",
              " 476,\n",
              " 26,\n",
              " 480,\n",
              " 5,\n",
              " 144,\n",
              " 30,\n",
              " 5535,\n",
              " 18,\n",
              " 51,\n",
              " 36,\n",
              " 28,\n",
              " 224,\n",
              " 92,\n",
              " 25,\n",
              " 104,\n",
              " 4,\n",
              " 226,\n",
              " 65,\n",
              " 16,\n",
              " 38,\n",
              " 1334,\n",
              " 88,\n",
              " 12,\n",
              " 16,\n",
              " 283,\n",
              " 5,\n",
              " 16,\n",
              " 4472,\n",
              " 113,\n",
              " 103,\n",
              " 32,\n",
              " 15,\n",
              " 16,\n",
              " 5345,\n",
              " 19,\n",
              " 178,\n",
              " 32]"
            ]
          },
          "metadata": {},
          "execution_count": 20
        }
      ],
      "source": [
        "train_data[0]"
      ]
    },
    {
      "cell_type": "code",
      "execution_count": 21,
      "metadata": {
        "id": "IhhpY3X9wqFr",
        "colab": {
          "base_uri": "https://localhost:8080/"
        },
        "outputId": "82f56f39-6cae-4090-ad68-c519f7dbbd0a"
      },
      "outputs": [
        {
          "output_type": "execute_result",
          "data": {
            "text/plain": [
              "1"
            ]
          },
          "metadata": {},
          "execution_count": 21
        }
      ],
      "source": [
        "train_labels[0]"
      ]
    },
    {
      "cell_type": "code",
      "execution_count": 22,
      "metadata": {
        "id": "UUtGrub4wqFs",
        "colab": {
          "base_uri": "https://localhost:8080/"
        },
        "outputId": "129f3ee3-b2f7-4b71-ddb7-ffda715fe2eb"
      },
      "outputs": [
        {
          "output_type": "execute_result",
          "data": {
            "text/plain": [
              "9999"
            ]
          },
          "metadata": {},
          "execution_count": 22
        }
      ],
      "source": [
        "max([max(sequence) for sequence in train_data])"
      ]
    },
    {
      "cell_type": "markdown",
      "metadata": {
        "id": "x_5_jZ3-wqFs"
      },
      "source": [
        "**Decoding reviews back to text**"
      ]
    },
    {
      "cell_type": "code",
      "execution_count": 23,
      "metadata": {
        "id": "1QMVJ8MPwqFs"
      },
      "outputs": [],
      "source": [
        "word_index = imdb.get_word_index()\n",
        "reverse_word_index = dict(\n",
        "    [(value, key) for (key, value) in word_index.items()])\n",
        "decoded_review = \" \".join(\n",
        "    [reverse_word_index.get(i - 3, \"?\") for i in train_data[0]])"
      ]
    },
    {
      "cell_type": "markdown",
      "metadata": {
        "id": "gGpZdnfrwqFs"
      },
      "source": [
        "### Preparing the data"
      ]
    },
    {
      "cell_type": "markdown",
      "metadata": {
        "id": "FYNcfMYXwqFt"
      },
      "source": [
        "**Encoding the integer sequences via multi-hot encoding**"
      ]
    },
    {
      "cell_type": "code",
      "execution_count": 24,
      "metadata": {
        "id": "KlmtYLQCwqFt"
      },
      "outputs": [],
      "source": [
        "import numpy as np\n",
        "def vectorize_sequences(sequences, dimension=10000):\n",
        "    results = np.zeros((len(sequences), dimension))\n",
        "    for i, sequence in enumerate(sequences):\n",
        "        for j in sequence:\n",
        "            results[i, j] = 1.\n",
        "    return results\n",
        "x_train = vectorize_sequences(train_data)\n",
        "x_test = vectorize_sequences(test_data)"
      ]
    },
    {
      "cell_type": "code",
      "execution_count": 25,
      "metadata": {
        "id": "_NHi5o-wwqFt",
        "colab": {
          "base_uri": "https://localhost:8080/"
        },
        "outputId": "891ace97-fe0e-4781-b7fb-e7267ca923b0"
      },
      "outputs": [
        {
          "output_type": "execute_result",
          "data": {
            "text/plain": [
              "array([0., 1., 1., ..., 0., 0., 0.])"
            ]
          },
          "metadata": {},
          "execution_count": 25
        }
      ],
      "source": [
        "x_train[0]"
      ]
    },
    {
      "cell_type": "code",
      "execution_count": 26,
      "metadata": {
        "id": "nBfOIixgwqFt"
      },
      "outputs": [],
      "source": [
        "y_train = np.asarray(train_labels).astype(\"float32\")\n",
        "y_test = np.asarray(test_labels).astype(\"float32\")"
      ]
    },
    {
      "cell_type": "markdown",
      "metadata": {
        "id": "RbdAwRf9wqFt"
      },
      "source": [
        "### Building your model"
      ]
    },
    {
      "cell_type": "markdown",
      "metadata": {
        "id": "XXjXSFWUwqFt"
      },
      "source": [
        "**Model definition**"
      ]
    },
    {
      "cell_type": "code",
      "execution_count": 27,
      "metadata": {
        "id": "Jz6cEINDwqFt"
      },
      "outputs": [],
      "source": [
        "from tensorflow import keras\n",
        "from tensorflow.keras import layers\n",
        "\n",
        "model = keras.Sequential([\n",
        "    layers.Dense(64, activation=\"relu\"),\n",
        "    layers.Dense(1, activation=\"sigmoid\")\n",
        "])"
      ]
    },
    {
      "cell_type": "markdown",
      "metadata": {
        "id": "Ebx8pxDwwqFu"
      },
      "source": [
        "**Compiling the model**"
      ]
    },
    {
      "cell_type": "code",
      "execution_count": 28,
      "metadata": {
        "id": "45_KTroEwqFu"
      },
      "outputs": [],
      "source": [
        "model.compile(optimizer=\"rmsprop\",\n",
        "              loss=\"binary_crossentropy\",\n",
        "              metrics=[\"accuracy\"])"
      ]
    },
    {
      "cell_type": "markdown",
      "metadata": {
        "id": "dpU5Ay80wqFu"
      },
      "source": [
        "### Validating your approach"
      ]
    },
    {
      "cell_type": "markdown",
      "metadata": {
        "id": "8l9hO_LawqFu"
      },
      "source": [
        "**Setting aside a validation set**"
      ]
    },
    {
      "cell_type": "code",
      "execution_count": 29,
      "metadata": {
        "id": "uGsMYO-iwqFu"
      },
      "outputs": [],
      "source": [
        "x_val = x_train[:10000]\n",
        "partial_x_train = x_train[10000:]\n",
        "y_val = y_train[:10000]\n",
        "partial_y_train = y_train[10000:]"
      ]
    },
    {
      "cell_type": "markdown",
      "metadata": {
        "id": "Ynyr5QtvwqFu"
      },
      "source": [
        "**Training your model**"
      ]
    },
    {
      "cell_type": "code",
      "execution_count": 30,
      "metadata": {
        "id": "QYzrbEINwqFu",
        "colab": {
          "base_uri": "https://localhost:8080/"
        },
        "outputId": "88e9d0f0-322c-4850-a564-d7afd2e30282"
      },
      "outputs": [
        {
          "output_type": "stream",
          "name": "stdout",
          "text": [
            "Epoch 1/20\n",
            "30/30 [==============================] - 5s 136ms/step - loss: 0.4980 - accuracy: 0.7676 - val_loss: 0.3844 - val_accuracy: 0.8486\n",
            "Epoch 2/20\n",
            "30/30 [==============================] - 2s 79ms/step - loss: 0.3120 - accuracy: 0.8875 - val_loss: 0.3160 - val_accuracy: 0.8734\n",
            "Epoch 3/20\n",
            "30/30 [==============================] - 2s 78ms/step - loss: 0.2437 - accuracy: 0.9141 - val_loss: 0.2824 - val_accuracy: 0.8868\n",
            "Epoch 4/20\n",
            "30/30 [==============================] - 2s 79ms/step - loss: 0.2027 - accuracy: 0.9301 - val_loss: 0.2799 - val_accuracy: 0.8867\n",
            "Epoch 5/20\n",
            "30/30 [==============================] - 3s 106ms/step - loss: 0.1825 - accuracy: 0.9363 - val_loss: 0.2751 - val_accuracy: 0.8861\n",
            "Epoch 6/20\n",
            "30/30 [==============================] - 3s 93ms/step - loss: 0.1611 - accuracy: 0.9463 - val_loss: 0.2798 - val_accuracy: 0.8841\n",
            "Epoch 7/20\n",
            "30/30 [==============================] - 2s 77ms/step - loss: 0.1441 - accuracy: 0.9527 - val_loss: 0.2911 - val_accuracy: 0.8842\n",
            "Epoch 8/20\n",
            "30/30 [==============================] - 2s 76ms/step - loss: 0.1313 - accuracy: 0.9579 - val_loss: 0.3387 - val_accuracy: 0.8674\n",
            "Epoch 9/20\n",
            "30/30 [==============================] - 2s 72ms/step - loss: 0.1173 - accuracy: 0.9633 - val_loss: 0.3382 - val_accuracy: 0.8694\n",
            "Epoch 10/20\n",
            "30/30 [==============================] - 3s 102ms/step - loss: 0.1118 - accuracy: 0.9637 - val_loss: 0.3121 - val_accuracy: 0.8791\n",
            "Epoch 11/20\n",
            "30/30 [==============================] - 3s 93ms/step - loss: 0.0991 - accuracy: 0.9699 - val_loss: 0.3282 - val_accuracy: 0.8810\n",
            "Epoch 12/20\n",
            "30/30 [==============================] - 2s 77ms/step - loss: 0.0907 - accuracy: 0.9717 - val_loss: 0.3788 - val_accuracy: 0.8620\n",
            "Epoch 13/20\n",
            "30/30 [==============================] - 2s 76ms/step - loss: 0.0831 - accuracy: 0.9764 - val_loss: 0.3386 - val_accuracy: 0.8805\n",
            "Epoch 14/20\n",
            "30/30 [==============================] - 2s 74ms/step - loss: 0.0719 - accuracy: 0.9819 - val_loss: 0.3448 - val_accuracy: 0.8794\n",
            "Epoch 15/20\n",
            "30/30 [==============================] - 3s 99ms/step - loss: 0.0714 - accuracy: 0.9809 - val_loss: 0.3543 - val_accuracy: 0.8787\n",
            "Epoch 16/20\n",
            "30/30 [==============================] - 3s 98ms/step - loss: 0.0647 - accuracy: 0.9852 - val_loss: 0.4076 - val_accuracy: 0.8644\n",
            "Epoch 17/20\n",
            "30/30 [==============================] - 2s 79ms/step - loss: 0.0581 - accuracy: 0.9857 - val_loss: 0.3928 - val_accuracy: 0.8700\n",
            "Epoch 18/20\n",
            "30/30 [==============================] - 2s 78ms/step - loss: 0.0532 - accuracy: 0.9883 - val_loss: 0.4208 - val_accuracy: 0.8709\n",
            "Epoch 19/20\n",
            "30/30 [==============================] - 2s 79ms/step - loss: 0.0459 - accuracy: 0.9916 - val_loss: 0.4184 - val_accuracy: 0.8723\n",
            "Epoch 20/20\n",
            "30/30 [==============================] - 3s 98ms/step - loss: 0.0439 - accuracy: 0.9919 - val_loss: 0.4638 - val_accuracy: 0.8611\n"
          ]
        }
      ],
      "source": [
        "history = model.fit(partial_x_train,\n",
        "                    partial_y_train,\n",
        "                    epochs=20,\n",
        "                    batch_size=512,\n",
        "                    validation_data=(x_val, y_val))"
      ]
    },
    {
      "cell_type": "code",
      "execution_count": 31,
      "metadata": {
        "id": "awGj0sGVwqFu",
        "colab": {
          "base_uri": "https://localhost:8080/"
        },
        "outputId": "78df8cc3-c42b-4362-e9ce-70077fae01f5"
      },
      "outputs": [
        {
          "output_type": "execute_result",
          "data": {
            "text/plain": [
              "dict_keys(['loss', 'accuracy', 'val_loss', 'val_accuracy'])"
            ]
          },
          "metadata": {},
          "execution_count": 31
        }
      ],
      "source": [
        "history_dict = history.history\n",
        "history_dict.keys()"
      ]
    },
    {
      "cell_type": "markdown",
      "metadata": {
        "id": "9xQdnUZ0wqFv"
      },
      "source": [
        "**Plotting the training and validation loss**"
      ]
    },
    {
      "cell_type": "code",
      "execution_count": 32,
      "metadata": {
        "id": "7kn5opLywqFv",
        "colab": {
          "base_uri": "https://localhost:8080/",
          "height": 295
        },
        "outputId": "6de75d48-89af-4a3f-de35-58f2d8c90b6f"
      },
      "outputs": [
        {
          "output_type": "display_data",
          "data": {
            "text/plain": [
              "<Figure size 432x288 with 1 Axes>"
            ],
            "image/png": "[encoded data removed]"
          },
          "metadata": {
            "needs_background": "light"
          }
        }
      ],
      "source": [
        "import matplotlib.pyplot as plt\n",
        "history_dict = history.history\n",
        "loss_values = history_dict[\"loss\"]\n",
        "val_loss_values = history_dict[\"val_loss\"]\n",
        "epochs = range(1, len(loss_values) + 1)\n",
        "plt.plot(epochs, loss_values, \"bo\", label=\"Training loss\")\n",
        "plt.plot(epochs, val_loss_values, \"b\", label=\"Validation loss\")\n",
        "plt.title(\"Training and validation loss\")\n",
        "plt.xlabel(\"Epochs\")\n",
        "plt.ylabel(\"Loss\")\n",
        "plt.legend()\n",
        "plt.show()"
      ]
    },
    {
      "cell_type": "markdown",
      "metadata": {
        "id": "6SuuK8MiwqFv"
      },
      "source": [
        "**Plotting the training and validation accuracy**"
      ]
    },
    {
      "cell_type": "code",
      "execution_count": 33,
      "metadata": {
        "id": "gOVBgFsLwqFv",
        "colab": {
          "base_uri": "https://localhost:8080/",
          "height": 295
        },
        "outputId": "9bd0c039-b448-485b-ab6d-63b953a11e56"
      },
      "outputs": [
        {
          "output_type": "display_data",
          "data": {
            "text/plain": [
              "<Figure size 432x288 with 1 Axes>"
            ],
            "image/png": "[encoded data removed]"
          },
          "metadata": {
            "needs_background": "light"
          }
        }
      ],
      "source": [
        "plt.clf()\n",
        "acc = history_dict[\"accuracy\"]\n",
        "val_acc = history_dict[\"val_accuracy\"]\n",
        "plt.plot(epochs, acc, \"bo\", label=\"Training acc\")\n",
        "plt.plot(epochs, val_acc, \"b\", label=\"Validation acc\")\n",
        "plt.title(\"Training and validation accuracy\")\n",
        "plt.xlabel(\"Epochs\")\n",
        "plt.ylabel(\"Accuracy\")\n",
        "plt.legend()\n",
        "plt.show()"
      ]
    },
    {
      "cell_type": "markdown",
      "metadata": {
        "id": "tNMqvU5kwqFv"
      },
      "source": [
        "**Retraining a model from scratch**"
      ]
    },
    {
      "cell_type": "code",
      "execution_count": 34,
      "metadata": {
        "id": "MouG6ZVswqFv",
        "colab": {
          "base_uri": "https://localhost:8080/"
        },
        "outputId": "8ae48306-7aae-4e48-bf99-e0be2bb482af"
      },
      "outputs": [
        {
          "output_type": "stream",
          "name": "stdout",
          "text": [
            "Epoch 1/4\n",
            "49/49 [==============================] - 5s 79ms/step - loss: 0.4314 - accuracy: 0.8161\n",
            "Epoch 2/4\n",
            "49/49 [==============================] - 3s 60ms/step - loss: 0.2695 - accuracy: 0.9008\n",
            "Epoch 3/4\n",
            "49/49 [==============================] - 3s 58ms/step - loss: 0.2237 - accuracy: 0.9168\n",
            "Epoch 4/4\n",
            "49/49 [==============================] - 3s 58ms/step - loss: 0.1989 - accuracy: 0.9256\n",
            "782/782 [==============================] - 5s 6ms/step - loss: 0.3250 - accuracy: 0.8681\n"
          ]
        }
      ],
      "source": [
        "model = keras.Sequential([\n",
        "    layers.Dense(64, activation=\"relu\"),\n",
        "    layers.Dense(1, activation=\"sigmoid\")\n",
        "])\n",
        "model.compile(optimizer=\"rmsprop\",\n",
        "              loss=\"binary_crossentropy\",\n",
        "              metrics=[\"accuracy\"])\n",
        "model.fit(x_train, y_train, epochs=4, batch_size=512)\n",
        "results = model.evaluate(x_test, y_test)"
      ]
    },
    {
      "cell_type": "code",
      "execution_count": 35,
      "metadata": {
        "id": "2AB63VtjwqFv",
        "colab": {
          "base_uri": "https://localhost:8080/"
        },
        "outputId": "2c61e923-0e48-43a0-94a1-2a7f301af2d0"
      },
      "outputs": [
        {
          "output_type": "execute_result",
          "data": {
            "text/plain": [
              "[0.3249625861644745, 0.868120014667511]"
            ]
          },
          "metadata": {},
          "execution_count": 35
        }
      ],
      "source": [
        "results"
      ]
    },
    {
      "cell_type": "markdown",
      "metadata": {
        "id": "reXSlCy9wqFv"
      },
      "source": [
        "### Using a trained model to generate predictions on new data"
      ]
    },
    {
      "cell_type": "code",
      "execution_count": 36,
      "metadata": {
        "id": "1MB1VoCLwqFv",
        "colab": {
          "base_uri": "https://localhost:8080/"
        },
        "outputId": "907f529e-935b-456f-f45f-f37a61c7c086"
      },
      "outputs": [
        {
          "output_type": "stream",
          "name": "stdout",
          "text": [
            "782/782 [==============================] - 4s 5ms/step\n"
          ]
        },
        {
          "output_type": "execute_result",
          "data": {
            "text/plain": [
              "array([[0.28256333],\n",
              "       [0.9998983 ],\n",
              "       [0.9779185 ],\n",
              "       ...,\n",
              "       [0.16574456],\n",
              "       [0.14305644],\n",
              "       [0.793086  ]], dtype=float32)"
            ]
          },
          "metadata": {},
          "execution_count": 36
        }
      ],
      "source": [
        "model.predict(x_test)"
      ]
    }
  ],
  "metadata": {
    "colab": {
      "provenance": [],
      "toc_visible": true
    },
    "kernelspec": {
      "display_name": "Python 3",
      "language": "python",
      "name": "python3"
    },
    "language_info": {
      "codemirror_mode": {
        "name": "ipython",
        "version": 3
      },
      "file_extension": ".py",
      "mimetype": "text/x-python",
      "name": "python",
      "nbconvert_exporter": "python",
      "pygments_lexer": "ipython3",
      "version": "3.7.0"
    }
  },
  "nbformat": 4,
  "nbformat_minor": 0
}